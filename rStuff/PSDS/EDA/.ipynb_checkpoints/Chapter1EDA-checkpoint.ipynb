{
 "cells": [
  {
   "cell_type": "code",
   "execution_count": 2,
   "id": "174b9328",
   "metadata": {},
   "outputs": [
    {
     "data": {
      "text/html": [
       "<table>\n",
       "<thead><tr><th scope=col>State</th><th scope=col>Population</th><th scope=col>Murder.Rate</th><th scope=col>Abbreviation</th></tr></thead>\n",
       "<tbody>\n",
       "\t<tr><td>Alabama   </td><td> 4779736  </td><td>5.7       </td><td>AL        </td></tr>\n",
       "\t<tr><td>Alaska    </td><td>  710231  </td><td>5.6       </td><td>AK        </td></tr>\n",
       "\t<tr><td>Arizona   </td><td> 6392017  </td><td>4.7       </td><td>AZ        </td></tr>\n",
       "\t<tr><td>Arkansas  </td><td> 2915918  </td><td>5.6       </td><td>AR        </td></tr>\n",
       "\t<tr><td>California</td><td>37253956  </td><td>4.4       </td><td>CA        </td></tr>\n",
       "\t<tr><td>Colorado  </td><td> 5029196  </td><td>2.8       </td><td>CO        </td></tr>\n",
       "</tbody>\n",
       "</table>\n"
      ],
      "text/latex": [
       "\\begin{tabular}{r|llll}\n",
       " State & Population & Murder.Rate & Abbreviation\\\\\n",
       "\\hline\n",
       "\t Alabama    &  4779736   & 5.7        & AL        \\\\\n",
       "\t Alaska     &   710231   & 5.6        & AK        \\\\\n",
       "\t Arizona    &  6392017   & 4.7        & AZ        \\\\\n",
       "\t Arkansas   &  2915918   & 5.6        & AR        \\\\\n",
       "\t California & 37253956   & 4.4        & CA        \\\\\n",
       "\t Colorado   &  5029196   & 2.8        & CO        \\\\\n",
       "\\end{tabular}\n"
      ],
      "text/markdown": [
       "\n",
       "| State | Population | Murder.Rate | Abbreviation |\n",
       "|---|---|---|---|\n",
       "| Alabama    |  4779736   | 5.7        | AL         |\n",
       "| Alaska     |   710231   | 5.6        | AK         |\n",
       "| Arizona    |  6392017   | 4.7        | AZ         |\n",
       "| Arkansas   |  2915918   | 5.6        | AR         |\n",
       "| California | 37253956   | 4.4        | CA         |\n",
       "| Colorado   |  5029196   | 2.8        | CO         |\n",
       "\n"
      ],
      "text/plain": [
       "  State      Population Murder.Rate Abbreviation\n",
       "1 Alabama     4779736   5.7         AL          \n",
       "2 Alaska       710231   5.6         AK          \n",
       "3 Arizona     6392017   4.7         AZ          \n",
       "4 Arkansas    2915918   5.6         AR          \n",
       "5 California 37253956   4.4         CA          \n",
       "6 Colorado    5029196   2.8         CO          "
      ]
     },
     "metadata": {},
     "output_type": "display_data"
    }
   ],
   "source": [
    "#Estimates of Location\n",
    "\n",
    "#Example: Location Estimates of Population and Murder Rates (pg 12)\n",
    "\n",
    "state  <- read.csv('state.csv') # read.csv makes a dataframe instead of a tibble (read_csv)\n",
    "\n",
    "head(state)"
   ]
  },
  {
   "cell_type": "code",
   "execution_count": 3,
   "id": "a6a96182",
   "metadata": {},
   "outputs": [
    {
     "data": {
      "text/html": [
       "6162876.3"
      ],
      "text/latex": [
       "6162876.3"
      ],
      "text/markdown": [
       "6162876.3"
      ],
      "text/plain": [
       "[1] 6162876"
      ]
     },
     "metadata": {},
     "output_type": "display_data"
    }
   ],
   "source": [
    "#computing mean, trimmed mean, median for population\n",
    "\n",
    "mean(state[[\"Population\"]])"
   ]
  },
  {
   "cell_type": "code",
   "execution_count": 4,
   "id": "337e35cf",
   "metadata": {},
   "outputs": [
    {
     "data": {
      "text/html": [
       "4783697.125"
      ],
      "text/latex": [
       "4783697.125"
      ],
      "text/markdown": [
       "4783697.125"
      ],
      "text/plain": [
       "[1] 4783697"
      ]
     },
     "metadata": {},
     "output_type": "display_data"
    }
   ],
   "source": [
    "mean(state[[\"Population\"]], trim=0.1) # drops top and bottom 10 percent, i.e. 5 states from each end"
   ]
  },
  {
   "cell_type": "code",
   "execution_count": 5,
   "id": "9e7a49b1",
   "metadata": {},
   "outputs": [
    {
     "data": {
      "text/html": [
       "4436369.5"
      ],
      "text/latex": [
       "4436369.5"
      ],
      "text/markdown": [
       "4436369.5"
      ],
      "text/plain": [
       "[1] 4436370"
      ]
     },
     "metadata": {},
     "output_type": "display_data"
    }
   ],
   "source": [
    "median(state[[\"Population\"]])"
   ]
  },
  {
   "cell_type": "code",
   "execution_count": null,
   "id": "dca1e30a",
   "metadata": {
    "scrolled": true
   },
   "outputs": [],
   "source": [
    "#Observation: mean>trimmed mean > median ( latter is more robust)"
   ]
  },
  {
   "cell_type": "code",
   "execution_count": 6,
   "id": "25a51a80",
   "metadata": {},
   "outputs": [
    {
     "data": {
      "text/html": [
       "4.44583398112339"
      ],
      "text/latex": [
       "4.44583398112339"
      ],
      "text/markdown": [
       "4.44583398112339"
      ],
      "text/plain": [
       "[1] 4.445834"
      ]
     },
     "metadata": {},
     "output_type": "display_data"
    }
   ],
   "source": [
    "# Calculating weighted mean to find average murder rate, to account for different state populations\n",
    "\n",
    "weighted.mean(state[[\"Murder.Rate\"]], w=state[[\"Population\"]])"
   ]
  },
  {
   "cell_type": "code",
   "execution_count": 7,
   "id": "dd6a131b",
   "metadata": {},
   "outputs": [
    {
     "data": {
      "text/html": [
       "4.066"
      ],
      "text/latex": [
       "4.066"
      ],
      "text/markdown": [
       "4.066"
      ],
      "text/plain": [
       "[1] 4.066"
      ]
     },
     "metadata": {},
     "output_type": "display_data"
    }
   ],
   "source": [
    "# as opposed to basic average\n",
    "\n",
    "mean(state[[\"Murder.Rate\"]])"
   ]
  },
  {
   "cell_type": "code",
   "execution_count": 8,
   "id": "9836b6e5",
   "metadata": {},
   "outputs": [
    {
     "data": {
      "text/html": [
       "4.4"
      ],
      "text/latex": [
       "4.4"
      ],
      "text/markdown": [
       "4.4"
      ],
      "text/plain": [
       "[1] 4.4"
      ]
     },
     "metadata": {},
     "output_type": "display_data"
    }
   ],
   "source": [
    "# weighted median\n",
    "library('matrixStats')\n",
    "\n",
    "weightedMedian(state[['Murder.Rate']], w=state[[\"Population\"]])"
   ]
  },
  {
   "cell_type": "code",
   "execution_count": 9,
   "id": "031995d1",
   "metadata": {},
   "outputs": [
    {
     "data": {
      "text/html": [
       "6848235.34740114"
      ],
      "text/latex": [
       "6848235.34740114"
      ],
      "text/markdown": [
       "6848235.34740114"
      ],
      "text/plain": [
       "[1] 6848235"
      ]
     },
     "metadata": {},
     "output_type": "display_data"
    }
   ],
   "source": [
    "# Estimates of Variability (Dispersion) pg 18\n",
    "\n",
    "# finding IQR, med absolute deviation\n",
    "\n",
    "sd(state[[\"Population\"]])\n"
   ]
  },
  {
   "cell_type": "code",
   "execution_count": 10,
   "id": "2017faad",
   "metadata": {},
   "outputs": [
    {
     "data": {
      "text/html": [
       "4847308"
      ],
      "text/latex": [
       "4847308"
      ],
      "text/markdown": [
       "4847308"
      ],
      "text/plain": [
       "[1] 4847308"
      ]
     },
     "metadata": {},
     "output_type": "display_data"
    }
   ],
   "source": [
    "IQR(state[[\"Population\"]])"
   ]
  },
  {
   "cell_type": "code",
   "execution_count": 11,
   "id": "4cd93fc5",
   "metadata": {},
   "outputs": [
    {
     "data": {
      "text/html": [
       "3849870.3852"
      ],
      "text/latex": [
       "3849870.3852"
      ],
      "text/markdown": [
       "3849870.3852"
      ],
      "text/plain": [
       "[1] 3849870"
      ]
     },
     "metadata": {},
     "output_type": "display_data"
    }
   ],
   "source": [
    "mad(state[[\"Population\"]])"
   ]
  },
  {
   "cell_type": "code",
   "execution_count": 12,
   "id": "51d92a15",
   "metadata": {},
   "outputs": [],
   "source": [
    "#Exploring the Data Distribution (pg 19)\n"
   ]
  },
  {
   "cell_type": "code",
   "execution_count": 13,
   "id": "d1c5620e",
   "metadata": {},
   "outputs": [
    {
     "data": {
      "text/html": [
       "<dl class=dl-horizontal>\n",
       "\t<dt>5%</dt>\n",
       "\t\t<dd>1.6</dd>\n",
       "\t<dt>25%</dt>\n",
       "\t\t<dd>2.425</dd>\n",
       "\t<dt>50%</dt>\n",
       "\t\t<dd>4</dd>\n",
       "\t<dt>75%</dt>\n",
       "\t\t<dd>5.55</dd>\n",
       "\t<dt>95%</dt>\n",
       "\t\t<dd>6.51</dd>\n",
       "</dl>\n"
      ],
      "text/latex": [
       "\\begin{description*}\n",
       "\\item[5\\textbackslash{}\\%] 1.6\n",
       "\\item[25\\textbackslash{}\\%] 2.425\n",
       "\\item[50\\textbackslash{}\\%] 4\n",
       "\\item[75\\textbackslash{}\\%] 5.55\n",
       "\\item[95\\textbackslash{}\\%] 6.51\n",
       "\\end{description*}\n"
      ],
      "text/markdown": [
       "5%\n",
       ":   1.625%\n",
       ":   2.42550%\n",
       ":   475%\n",
       ":   5.5595%\n",
       ":   6.51\n",
       "\n"
      ],
      "text/plain": [
       "   5%   25%   50%   75%   95% \n",
       "1.600 2.425 4.000 5.550 6.510 "
      ]
     },
     "metadata": {},
     "output_type": "display_data"
    }
   ],
   "source": [
    "#Using percentiles to measure spread of data\n",
    "\n",
    "#percentiles of murder rate by state\n",
    "\n",
    "quantile(state[[\"Murder.Rate\"]], p=c(0.05,0.25,.5,.75,.95)) # the median is 4 murders per 100,000 people"
   ]
  },
  {
   "cell_type": "code",
   "execution_count": 14,
   "id": "35bb37d9",
   "metadata": {},
   "outputs": [
    {
     "data": {
      "image/png": "[encoded data removed]",
      "text/plain": [
       "plot without title"
      ]
     },
     "metadata": {},
     "output_type": "display_data"
    }
   ],
   "source": [
    "# using boxplots to visualize distribution of data\n",
    "\n",
    "boxplot(state[[\"Population\"]]/1000000, ylab=\"Population (Millions)\")\n",
    "\n",
    "#From this boxplot we can immediately see that the median state population is about 5\n",
    "#million, half the states fall between about 2 million and about 7 million, and there are\n",
    "#some high population outliers. "
   ]
  },
  {
   "cell_type": "code",
   "execution_count": null,
   "id": "0d25943b",
   "metadata": {},
   "outputs": [],
   "source": [
    "# Frequency Tables and Histograms (pg 21)\n",
    "\n",
    "breaks  <- seq(from= min(state[[\"Population\"]]),to= max(state[[\"Population\"]], length=11))\n",
    "pop_freq  <- cut(state[[\"Population\"]], breaks=breaks,right=TRUE, include.lowest=TRUE)\n",
    "\n",
    "table(pop_freq)"
   ]
  },
  {
   "cell_type": "code",
   "execution_count": null,
   "id": "cdeec959",
   "metadata": {},
   "outputs": [],
   "source": []
  }
 ],
 "metadata": {
  "kernelspec": {
   "display_name": "R",
   "language": "R",
   "name": "ir"
  },
  "language_info": {
   "codemirror_mode": "r",
   "file_extension": ".r",
   "mimetype": "text/x-r-source",
   "name": "R",
   "pygments_lexer": "r",
   "version": "3.6.1"
  }
 },
 "nbformat": 4,
 "nbformat_minor": 5
}
