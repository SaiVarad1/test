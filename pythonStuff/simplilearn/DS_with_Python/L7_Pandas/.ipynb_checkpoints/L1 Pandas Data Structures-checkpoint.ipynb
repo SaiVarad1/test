{
 "cells": [
  {
   "cell_type": "code",
   "execution_count": 2,
   "id": "97433e56",
   "metadata": {},
   "outputs": [],
   "source": [
    "import pandas as pd\n",
    "import numpy as np"
   ]
  },
  {
   "cell_type": "code",
   "execution_count": 4,
   "id": "df0f6617",
   "metadata": {},
   "outputs": [
    {
     "data": {
      "text/plain": [
       "0     a\n",
       "1     2\n",
       "2    34\n",
       "3     b\n",
       "dtype: object"
      ]
     },
     "execution_count": 4,
     "metadata": {},
     "output_type": "execute_result"
    }
   ],
   "source": [
    "# creating Series from List\n",
    "list_stuff=[\"a\",2,34,\"b\"]\n",
    "series_stuff=pd.Series(list_stuff)\n",
    "series_stuff"
   ]
  },
  {
   "cell_type": "code",
   "execution_count": 5,
   "id": "a74d5c7c",
   "metadata": {},
   "outputs": [
    {
     "data": {
      "text/plain": [
       "0     Luxembourg\n",
       "1         Norway\n",
       "2          Japan\n",
       "3    Switzerland\n",
       "dtype: object"
      ]
     },
     "execution_count": 5,
     "metadata": {},
     "output_type": "execute_result"
    }
   ],
   "source": [
    "# series from ndarray\n",
    "\n",
    "np_country=np.array([\"Luxembourg\",\"Norway\",\"Japan\",\"Switzerland\"])\n",
    "\n",
    "series_country=pd.Series(np_country)\n",
    "series_country"
   ]
  },
  {
   "cell_type": "code",
   "execution_count": 7,
   "id": "fcefad36",
   "metadata": {},
   "outputs": [
    {
     "data": {
      "text/plain": [
       "{'US': 23423432, 'India': 23422425, 'China': 46456221}"
      ]
     },
     "execution_count": 7,
     "metadata": {},
     "output_type": "execute_result"
    }
   ],
   "source": [
    "# dictionary to series\n",
    "\n",
    "gdp_country_dict={\"US\":23423432, \"India\":23422425, \"China\":46456221}\n",
    "gdp_country_dict"
   ]
  },
  {
   "cell_type": "code",
   "execution_count": 8,
   "id": "cd63b497",
   "metadata": {},
   "outputs": [],
   "source": [
    "series_gdp_country_dict=pd.Series(gdp_country_dict)"
   ]
  },
  {
   "cell_type": "code",
   "execution_count": 9,
   "id": "fe4c05a9",
   "metadata": {},
   "outputs": [
    {
     "data": {
      "text/plain": [
       "US       23423432\n",
       "India    23422425\n",
       "China    46456221\n",
       "dtype: int64"
      ]
     },
     "execution_count": 9,
     "metadata": {},
     "output_type": "execute_result"
    }
   ],
   "source": [
    "series_gdp_country_dict"
   ]
  },
  {
   "cell_type": "code",
   "execution_count": 11,
   "id": "6349ebf7",
   "metadata": {},
   "outputs": [
    {
     "data": {
      "text/plain": [
       "sai       23\n",
       "s2        45\n",
       "s3       675\n",
       "s4     23424\n",
       "s5       425\n",
       "dtype: int64"
      ]
     },
     "execution_count": 11,
     "metadata": {},
     "output_type": "execute_result"
    }
   ],
   "source": [
    "# alternatively, use index param\n",
    "pd.Series([23,45,675,23424,425], index=[\"sai\",\"s2\",\"s3\",\"s4\",\"s5\"])"
   ]
  },
  {
   "cell_type": "code",
   "execution_count": 12,
   "id": "35b8ec6f",
   "metadata": {},
   "outputs": [
    {
     "data": {
      "text/plain": [
       "a    5\n",
       "b    5\n",
       "c    5\n",
       "dtype: int64"
      ]
     },
     "execution_count": 12,
     "metadata": {},
     "output_type": "execute_result"
    }
   ],
   "source": [
    "# from scalar\n",
    "\n",
    "pd.Series(5,index=['a','b','c'])"
   ]
  },
  {
   "cell_type": "code",
   "execution_count": 13,
   "id": "b66e493c",
   "metadata": {},
   "outputs": [
    {
     "data": {
      "text/plain": [
       "46456221"
      ]
     },
     "execution_count": 13,
     "metadata": {},
     "output_type": "execute_result"
    }
   ],
   "source": [
    "# accessing elements in series\n",
    "\n",
    "series_gdp_country_dict[2]"
   ]
  },
  {
   "cell_type": "code",
   "execution_count": 16,
   "id": "d6973313",
   "metadata": {},
   "outputs": [
    {
     "data": {
      "text/plain": [
       "US       23423432\n",
       "India    23422425\n",
       "dtype: int64"
      ]
     },
     "execution_count": 16,
     "metadata": {},
     "output_type": "execute_result"
    }
   ],
   "source": [
    "series_gdp_country_dict[0:2]"
   ]
  },
  {
   "cell_type": "code",
   "execution_count": 17,
   "id": "66c25113",
   "metadata": {},
   "outputs": [
    {
     "data": {
      "text/plain": [
       "23423432"
      ]
     },
     "execution_count": 17,
     "metadata": {},
     "output_type": "execute_result"
    }
   ],
   "source": [
    "series_gdp_country_dict.loc['US']"
   ]
  },
  {
   "cell_type": "code",
   "execution_count": 18,
   "id": "f4ba2795",
   "metadata": {},
   "outputs": [
    {
     "data": {
      "text/plain": [
       "23422425"
      ]
     },
     "execution_count": 18,
     "metadata": {},
     "output_type": "execute_result"
    }
   ],
   "source": [
    "series_gdp_country_dict.iloc[1]"
   ]
  },
  {
   "cell_type": "code",
   "execution_count": 19,
   "id": "05d67c1a",
   "metadata": {},
   "outputs": [
    {
     "data": {
      "text/plain": [
       "a     6.0\n",
       "b    10.0\n",
       "c     9.0\n",
       "d     NaN\n",
       "e     NaN\n",
       "dtype: float64"
      ]
     },
     "execution_count": 19,
     "metadata": {},
     "output_type": "execute_result"
    }
   ],
   "source": [
    "# Vectorized operations \n",
    "\n",
    "first_vectorized_series=pd.Series([1,2,3,4],index=['a','b','c','d'])\n",
    "second_vectorized_series=pd.Series([5,6,7,8], index=['a','c','e','b'])\n",
    "\n",
    "first_vectorized_series + second_vectorized_series # bound by indices"
   ]
  },
  {
   "cell_type": "code",
   "execution_count": null,
   "id": "e311f51e",
   "metadata": {},
   "outputs": [],
   "source": []
  }
 ],
 "metadata": {
  "kernelspec": {
   "display_name": "Python 3 (ipykernel)",
   "language": "python",
   "name": "python3"
  },
  "language_info": {
   "codemirror_mode": {
    "name": "ipython",
    "version": 3
   },
   "file_extension": ".py",
   "mimetype": "text/x-python",
   "name": "python",
   "nbconvert_exporter": "python",
   "pygments_lexer": "ipython3",
   "version": "3.9.7"
  }
 },
 "nbformat": 4,
 "nbformat_minor": 5
}
