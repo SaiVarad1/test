{
 "cells": [
  {
   "cell_type": "code",
   "execution_count": 3,
   "id": "a3b9e377",
   "metadata": {},
   "outputs": [],
   "source": [
    "import numpy as np"
   ]
  },
  {
   "cell_type": "code",
   "execution_count": 5,
   "id": "e4a47852",
   "metadata": {},
   "outputs": [],
   "source": [
    "# can perfor operations over entire nd array\n",
    "\n",
    "distance=np.array([10,20,30,40])\n",
    "time=np.array([.30,.40,.50,.60])"
   ]
  },
  {
   "cell_type": "code",
   "execution_count": 6,
   "id": "6dcb0eb8",
   "metadata": {},
   "outputs": [
    {
     "data": {
      "text/plain": [
       "array([33.33333333, 50.        , 60.        , 66.66666667])"
      ]
     },
     "execution_count": 6,
     "metadata": {},
     "output_type": "execute_result"
    }
   ],
   "source": [
    "speed=distance/time\n",
    "speed"
   ]
  },
  {
   "cell_type": "code",
   "execution_count": null,
   "id": "a16b676a",
   "metadata": {},
   "outputs": [],
   "source": []
  }
 ],
 "metadata": {
  "kernelspec": {
   "display_name": "Python 3 (ipykernel)",
   "language": "python",
   "name": "python3"
  },
  "language_info": {
   "codemirror_mode": {
    "name": "ipython",
    "version": 3
   },
   "file_extension": ".py",
   "mimetype": "text/x-python",
   "name": "python",
   "nbconvert_exporter": "python",
   "pygments_lexer": "ipython3",
   "version": "3.9.7"
  }
 },
 "nbformat": 4,
 "nbformat_minor": 5
}
