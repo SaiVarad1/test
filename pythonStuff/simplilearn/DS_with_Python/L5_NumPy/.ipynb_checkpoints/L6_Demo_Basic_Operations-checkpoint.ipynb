{
 "cells": [
  {
   "cell_type": "code",
   "execution_count": 1,
   "id": "e324ff3b",
   "metadata": {},
   "outputs": [],
   "source": [
    "import numpy as np"
   ]
  },
  {
   "cell_type": "code",
   "execution_count": 3,
   "id": "16236124",
   "metadata": {},
   "outputs": [],
   "source": [
    "# Basic Operations Example\n",
    "\n",
    "first_trial_cyclist=[10,15,17,26]\n",
    "second_trial_cyclist=[12,11,21,24]"
   ]
  },
  {
   "cell_type": "code",
   "execution_count": 4,
   "id": "4876f16d",
   "metadata": {},
   "outputs": [],
   "source": [
    "np_first_trial_cyclist=np.array(first_trial_cyclist)\n",
    "np_second_trial_cyclist=np.array(second_trial_cyclist)"
   ]
  },
  {
   "cell_type": "code",
   "execution_count": 5,
   "id": "b0491ef4",
   "metadata": {},
   "outputs": [
    {
     "data": {
      "text/plain": [
       "array([22, 26, 38, 50])"
      ]
     },
     "execution_count": 5,
     "metadata": {},
     "output_type": "execute_result"
    }
   ],
   "source": [
    "#Total distance\n",
    "np_total_distance=np_first_trial_cyclist+np_second_trial_cyclist\n",
    "np_total_distance"
   ]
  },
  {
   "cell_type": "code",
   "execution_count": 6,
   "id": "428ed7de",
   "metadata": {},
   "outputs": [
    {
     "data": {
      "text/plain": [
       "5"
      ]
     },
     "execution_count": 6,
     "metadata": {},
     "output_type": "execute_result"
    }
   ],
   "source": [
    "# Mathematical Operations\n",
    "\n",
    "#addition\n",
    "\n",
    "np.add(2,3)"
   ]
  },
  {
   "cell_type": "code",
   "execution_count": 7,
   "id": "f4ccad16",
   "metadata": {},
   "outputs": [
    {
     "data": {
      "text/plain": [
       "22"
      ]
     },
     "execution_count": 7,
     "metadata": {},
     "output_type": "execute_result"
    }
   ],
   "source": [
    "#Subtraction\n",
    "np.subtract(45,23)"
   ]
  },
  {
   "cell_type": "code",
   "execution_count": 8,
   "id": "7988e9ec",
   "metadata": {},
   "outputs": [
    {
     "data": {
      "text/plain": [
       "array([105, 135, 195, 120, 165])"
      ]
     },
     "execution_count": 8,
     "metadata": {},
     "output_type": "execute_result"
    }
   ],
   "source": [
    "#ndarray multiplication\n",
    "#create ndarray which contains number of hours worked for 5 days\n",
    "#hourly rate is 15 USD\n",
    "np_daily_wage=np.array([7,9,13,8,11])*15\n",
    "np_daily_wage\n"
   ]
  },
  {
   "cell_type": "code",
   "execution_count": 9,
   "id": "5cfe9e80",
   "metadata": {},
   "outputs": [
    {
     "data": {
      "text/plain": [
       "720"
      ]
     },
     "execution_count": 9,
     "metadata": {},
     "output_type": "execute_result"
    }
   ],
   "source": [
    "# total earnings after 5 days\n",
    "np.sum(np_daily_wage)"
   ]
  },
  {
   "cell_type": "code",
   "execution_count": 10,
   "id": "5f4d56d4",
   "metadata": {},
   "outputs": [],
   "source": [
    "#Comparison Operators\n",
    "# create ndarray for weekly hrs, 5 consecutive weeks hrs data\n",
    "np_weekly_hrs=np.array([23,41,55,47,38])"
   ]
  },
  {
   "cell_type": "code",
   "execution_count": 11,
   "id": "022e0816",
   "metadata": {},
   "outputs": [
    {
     "data": {
      "text/plain": [
       "array([41, 55, 47])"
      ]
     },
     "execution_count": 11,
     "metadata": {},
     "output_type": "execute_result"
    }
   ],
   "source": [
    "#week with more than 40 hrs\n",
    "\n",
    "np_weekly_hrs[np_weekly_hrs>40]"
   ]
  },
  {
   "cell_type": "code",
   "execution_count": 12,
   "id": "d8e6893b",
   "metadata": {},
   "outputs": [
    {
     "data": {
      "text/plain": [
       "array([ True,  True, False,  True,  True])"
      ]
     },
     "execution_count": 12,
     "metadata": {},
     "output_type": "execute_result"
    }
   ],
   "source": [
    "#Logical Operations (Generates Boolean arrays)\n",
    "#AND\n",
    "np.logical_and(np_weekly_hrs>20,np_weekly_hrs<50)"
   ]
  },
  {
   "cell_type": "code",
   "execution_count": 15,
   "id": "0e66e33f",
   "metadata": {},
   "outputs": [
    {
     "data": {
      "text/plain": [
       "array([ True, False, False, False,  True])"
      ]
     },
     "execution_count": 15,
     "metadata": {},
     "output_type": "execute_result"
    }
   ],
   "source": [
    "# Logical Not \n",
    "np.logical_not(np_weekly_hrs>40)"
   ]
  },
  {
   "cell_type": "code",
   "execution_count": 17,
   "id": "46106ad5",
   "metadata": {},
   "outputs": [
    {
     "data": {
      "text/plain": [
       "array([10, 15, 17, 26])"
      ]
     },
     "execution_count": 17,
     "metadata": {},
     "output_type": "execute_result"
    }
   ],
   "source": [
    "# Accessing elements\n",
    "cyclist_trials=np.array([[10,15,17,26],[12,11,21,24]])\n",
    "\n",
    "first_cyclist=cyclist_trials[0]\n",
    "first_cyclist"
   ]
  },
  {
   "cell_type": "code",
   "execution_count": 18,
   "id": "56cdc30e",
   "metadata": {},
   "outputs": [
    {
     "data": {
      "text/plain": [
       "array([12, 11, 21, 24])"
      ]
     },
     "execution_count": 18,
     "metadata": {},
     "output_type": "execute_result"
    }
   ],
   "source": [
    "second_cyclist=cyclist_trials[1]\n",
    "second_cyclist"
   ]
  },
  {
   "cell_type": "code",
   "execution_count": 19,
   "id": "ee4d6689",
   "metadata": {},
   "outputs": [
    {
     "data": {
      "text/plain": [
       "array([10, 12])"
      ]
     },
     "execution_count": 19,
     "metadata": {},
     "output_type": "execute_result"
    }
   ],
   "source": [
    "first_cyclist_all_trials=cyclist_trials[:,0]\n",
    "first_cyclist_all_trials"
   ]
  },
  {
   "cell_type": "code",
   "execution_count": 20,
   "id": "ee005204",
   "metadata": {},
   "outputs": [
    {
     "data": {
      "text/plain": [
       "array([[10, 15, 17, 26],\n",
       "       [12, 11, 21, 24]])"
      ]
     },
     "execution_count": 20,
     "metadata": {},
     "output_type": "execute_result"
    }
   ],
   "source": [
    "# slicing to get 15,17,11,21\n",
    "\n",
    "cyclist_trials"
   ]
  },
  {
   "cell_type": "code",
   "execution_count": 21,
   "id": "1ee8f137",
   "metadata": {},
   "outputs": [
    {
     "data": {
      "text/plain": [
       "(2, 4)"
      ]
     },
     "execution_count": 21,
     "metadata": {},
     "output_type": "execute_result"
    }
   ],
   "source": [
    "cyclist_trials.shape # 2 rows, 4 columns"
   ]
  },
  {
   "cell_type": "code",
   "execution_count": 22,
   "id": "c2674f80",
   "metadata": {},
   "outputs": [
    {
     "data": {
      "text/plain": [
       "array([[15, 17],\n",
       "       [11, 21]])"
      ]
     },
     "execution_count": 22,
     "metadata": {},
     "output_type": "execute_result"
    }
   ],
   "source": [
    "cyclist_trials[:,1:3]"
   ]
  },
  {
   "cell_type": "code",
   "execution_count": 23,
   "id": "d113ddb4",
   "metadata": {},
   "outputs": [
    {
     "name": "stdout",
     "output_type": "stream",
     "text": [
      "[10 15 17 26]\n",
      "[12 11 21 24]\n"
     ]
    }
   ],
   "source": [
    "# iterating through dataset\n",
    "\n",
    "for elem in cyclist_trials:\n",
    "    print(elem)"
   ]
  },
  {
   "cell_type": "code",
   "execution_count": 24,
   "id": "14bf8a6e",
   "metadata": {},
   "outputs": [],
   "source": [
    "# Indexing with Boolean arrays\n",
    "test_scores=np.array([[83,71,57,63],[54,68,81,45]])"
   ]
  },
  {
   "cell_type": "code",
   "execution_count": 25,
   "id": "283114b7",
   "metadata": {},
   "outputs": [],
   "source": [
    "passing_score=test_scores>60"
   ]
  },
  {
   "cell_type": "code",
   "execution_count": 26,
   "id": "d975a042",
   "metadata": {},
   "outputs": [
    {
     "data": {
      "text/plain": [
       "array([83, 71, 63, 68, 81])"
      ]
     },
     "execution_count": 26,
     "metadata": {},
     "output_type": "execute_result"
    }
   ],
   "source": [
    "test_scores[passing_score]"
   ]
  },
  {
   "cell_type": "code",
   "execution_count": null,
   "id": "2f4f0bcb",
   "metadata": {},
   "outputs": [],
   "source": []
  }
 ],
 "metadata": {
  "kernelspec": {
   "display_name": "Python 3 (ipykernel)",
   "language": "python",
   "name": "python3"
  },
  "language_info": {
   "codemirror_mode": {
    "name": "ipython",
    "version": 3
   },
   "file_extension": ".py",
   "mimetype": "text/x-python",
   "name": "python",
   "nbconvert_exporter": "python",
   "pygments_lexer": "ipython3",
   "version": "3.9.7"
  }
 },
 "nbformat": 4,
 "nbformat_minor": 5
}
