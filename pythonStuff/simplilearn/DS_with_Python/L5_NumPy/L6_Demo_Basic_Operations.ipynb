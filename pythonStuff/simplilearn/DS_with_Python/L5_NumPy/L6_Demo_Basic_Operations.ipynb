{
 "cells": [
  {
   "cell_type": "code",
   "execution_count": 1,
   "id": "14edd92d",
   "metadata": {},
   "outputs": [],
   "source": [
    "import numpy as np"
   ]
  },
  {
   "cell_type": "code",
   "execution_count": 3,
   "id": "bed3f649",
   "metadata": {},
   "outputs": [],
   "source": [
    "# Basic Operations Example\n",
    "\n",
    "first_trial_cyclist=[10,15,17,26]\n",
    "second_trial_cyclist=[12,11,21,24]"
   ]
  },
  {
   "cell_type": "code",
   "execution_count": 4,
   "id": "38196e75",
   "metadata": {},
   "outputs": [],
   "source": [
    "np_first_trial_cyclist=np.array(first_trial_cyclist)\n",
    "np_second_trial_cyclist=np.array(second_trial_cyclist)"
   ]
  },
  {
   "cell_type": "code",
   "execution_count": 5,
   "id": "80d618ab",
   "metadata": {},
   "outputs": [
    {
     "data": {
      "text/plain": [
       "array([22, 26, 38, 50])"
      ]
     },
     "execution_count": 5,
     "metadata": {},
     "output_type": "execute_result"
    }
   ],
   "source": [
    "#Total distance\n",
    "np_total_distance=np_first_trial_cyclist+np_second_trial_cyclist\n",
    "np_total_distance"
   ]
  },
  {
   "cell_type": "code",
   "execution_count": 6,
   "id": "823d6a01",
   "metadata": {},
   "outputs": [
    {
     "data": {
      "text/plain": [
       "5"
      ]
     },
     "execution_count": 6,
     "metadata": {},
     "output_type": "execute_result"
    }
   ],
   "source": [
    "# Mathematical Operations\n",
    "\n",
    "#addition\n",
    "\n",
    "np.add(2,3)"
   ]
  },
  {
   "cell_type": "code",
   "execution_count": 7,
   "id": "d0b87266",
   "metadata": {},
   "outputs": [
    {
     "data": {
      "text/plain": [
       "22"
      ]
     },
     "execution_count": 7,
     "metadata": {},
     "output_type": "execute_result"
    }
   ],
   "source": [
    "#Subtraction\n",
    "np.subtract(45,23)"
   ]
  },
  {
   "cell_type": "code",
   "execution_count": 8,
   "id": "3c57b14b",
   "metadata": {},
   "outputs": [
    {
     "data": {
      "text/plain": [
       "array([105, 135, 195, 120, 165])"
      ]
     },
     "execution_count": 8,
     "metadata": {},
     "output_type": "execute_result"
    }
   ],
   "source": [
    "#ndarray multiplication\n",
    "#create ndarray which contains number of hours worked for 5 days\n",
    "#hourly rate is 15 USD\n",
    "np_daily_wage=np.array([7,9,13,8,11])*15\n",
    "np_daily_wage\n"
   ]
  },
  {
   "cell_type": "code",
   "execution_count": 9,
   "id": "6d79f41e",
   "metadata": {},
   "outputs": [
    {
     "data": {
      "text/plain": [
       "720"
      ]
     },
     "execution_count": 9,
     "metadata": {},
     "output_type": "execute_result"
    }
   ],
   "source": [
    "# total earnings after 5 days\n",
    "np.sum(np_daily_wage)"
   ]
  },
  {
   "cell_type": "code",
   "execution_count": 10,
   "id": "4e10570a",
   "metadata": {},
   "outputs": [],
   "source": [
    "#Comparison Operators\n",
    "# create ndarray for weekly hrs, 5 consecutive weeks hrs data\n",
    "np_weekly_hrs=np.array([23,41,55,47,38])"
   ]
  },
  {
   "cell_type": "code",
   "execution_count": 11,
   "id": "0dbacc09",
   "metadata": {},
   "outputs": [
    {
     "data": {
      "text/plain": [
       "array([41, 55, 47])"
      ]
     },
     "execution_count": 11,
     "metadata": {},
     "output_type": "execute_result"
    }
   ],
   "source": [
    "#week with more than 40 hrs\n",
    "\n",
    "np_weekly_hrs[np_weekly_hrs>40]"
   ]
  },
  {
   "cell_type": "code",
   "execution_count": 12,
   "id": "48d16572",
   "metadata": {},
   "outputs": [
    {
     "data": {
      "text/plain": [
       "array([ True,  True, False,  True,  True])"
      ]
     },
     "execution_count": 12,
     "metadata": {},
     "output_type": "execute_result"
    }
   ],
   "source": [
    "#Logical Operations (Generates Boolean arrays)\n",
    "#AND\n",
    "np.logical_and(np_weekly_hrs>20,np_weekly_hrs<50)"
   ]
  },
  {
   "cell_type": "code",
   "execution_count": 15,
   "id": "21138b3e",
   "metadata": {},
   "outputs": [
    {
     "data": {
      "text/plain": [
       "array([ True, False, False, False,  True])"
      ]
     },
     "execution_count": 15,
     "metadata": {},
     "output_type": "execute_result"
    }
   ],
   "source": [
    "# Logical Not \n",
    "np.logical_not(np_weekly_hrs>40)"
   ]
  },
  {
   "cell_type": "code",
   "execution_count": 17,
   "id": "2ecf8ddc",
   "metadata": {},
   "outputs": [
    {
     "data": {
      "text/plain": [
       "array([10, 15, 17, 26])"
      ]
     },
     "execution_count": 17,
     "metadata": {},
     "output_type": "execute_result"
    }
   ],
   "source": [
    "# Accessing elements\n",
    "cyclist_trials=np.array([[10,15,17,26],[12,11,21,24]])\n",
    "\n",
    "first_cyclist=cyclist_trials[0]\n",
    "first_cyclist"
   ]
  },
  {
   "cell_type": "code",
   "execution_count": 18,
   "id": "960ef45b",
   "metadata": {},
   "outputs": [
    {
     "data": {
      "text/plain": [
       "array([12, 11, 21, 24])"
      ]
     },
     "execution_count": 18,
     "metadata": {},
     "output_type": "execute_result"
    }
   ],
   "source": [
    "second_cyclist=cyclist_trials[1]\n",
    "second_cyclist"
   ]
  },
  {
   "cell_type": "code",
   "execution_count": 19,
   "id": "7b928741",
   "metadata": {},
   "outputs": [
    {
     "data": {
      "text/plain": [
       "array([10, 12])"
      ]
     },
     "execution_count": 19,
     "metadata": {},
     "output_type": "execute_result"
    }
   ],
   "source": [
    "first_cyclist_all_trials=cyclist_trials[:,0]\n",
    "first_cyclist_all_trials"
   ]
  },
  {
   "cell_type": "code",
   "execution_count": 20,
   "id": "fcefe952",
   "metadata": {},
   "outputs": [
    {
     "data": {
      "text/plain": [
       "array([[10, 15, 17, 26],\n",
       "       [12, 11, 21, 24]])"
      ]
     },
     "execution_count": 20,
     "metadata": {},
     "output_type": "execute_result"
    }
   ],
   "source": [
    "# slicing to get 15,17,11,21\n",
    "\n",
    "cyclist_trials"
   ]
  },
  {
   "cell_type": "code",
   "execution_count": 21,
   "id": "63e4eade",
   "metadata": {},
   "outputs": [
    {
     "data": {
      "text/plain": [
       "(2, 4)"
      ]
     },
     "execution_count": 21,
     "metadata": {},
     "output_type": "execute_result"
    }
   ],
   "source": [
    "cyclist_trials.shape # 2 rows, 4 columns"
   ]
  },
  {
   "cell_type": "code",
   "execution_count": 22,
   "id": "8ff3f276",
   "metadata": {},
   "outputs": [
    {
     "data": {
      "text/plain": [
       "array([[15, 17],\n",
       "       [11, 21]])"
      ]
     },
     "execution_count": 22,
     "metadata": {},
     "output_type": "execute_result"
    }
   ],
   "source": [
    "cyclist_trials[:,1:3]"
   ]
  },
  {
   "cell_type": "code",
   "execution_count": 23,
   "id": "1189d615",
   "metadata": {},
   "outputs": [
    {
     "name": "stdout",
     "output_type": "stream",
     "text": [
      "[10 15 17 26]\n",
      "[12 11 21 24]\n"
     ]
    }
   ],
   "source": [
    "# iterating through dataset\n",
    "\n",
    "for elem in cyclist_trials:\n",
    "    print(elem)"
   ]
  },
  {
   "cell_type": "code",
   "execution_count": 24,
   "id": "281207a6",
   "metadata": {},
   "outputs": [],
   "source": [
    "# Indexing with Boolean arrays\n",
    "test_scores=np.array([[83,71,57,63],[54,68,81,45]])"
   ]
  },
  {
   "cell_type": "code",
   "execution_count": 25,
   "id": "fae6a829",
   "metadata": {},
   "outputs": [],
   "source": [
    "passing_score=test_scores>60"
   ]
  },
  {
   "cell_type": "code",
   "execution_count": 26,
   "id": "9cab4814",
   "metadata": {},
   "outputs": [
    {
     "data": {
      "text/plain": [
       "array([83, 71, 63, 68, 81])"
      ]
     },
     "execution_count": 26,
     "metadata": {},
     "output_type": "execute_result"
    }
   ],
   "source": [
    "test_scores[passing_score]"
   ]
  },
  {
   "cell_type": "code",
   "execution_count": 27,
   "id": "e066cf2b",
   "metadata": {},
   "outputs": [
    {
     "data": {
      "text/plain": [
       "array([83, 71, 63, 68, 81])"
      ]
     },
     "execution_count": 27,
     "metadata": {},
     "output_type": "execute_result"
    }
   ],
   "source": [
    "test_scores=np.array([[83,71,57,63],[54,68,81,45]])\n",
    "passing_score=test_scores>60\n",
    "test_scores[passing_score]"
   ]
  },
  {
   "cell_type": "code",
   "execution_count": null,
   "id": "6373f52a",
   "metadata": {},
   "outputs": [],
   "source": []
  }
 ],
 "metadata": {
  "kernelspec": {
   "display_name": "Python 3 (ipykernel)",
   "language": "python",
   "name": "python3"
  },
  "language_info": {
   "codemirror_mode": {
    "name": "ipython",
    "version": 3
   },
   "file_extension": ".py",
   "mimetype": "text/x-python",
   "name": "python",
   "nbconvert_exporter": "python",
   "pygments_lexer": "ipython3",
   "version": "3.9.7"
  }
 },
 "nbformat": 4,
 "nbformat_minor": 5
}
