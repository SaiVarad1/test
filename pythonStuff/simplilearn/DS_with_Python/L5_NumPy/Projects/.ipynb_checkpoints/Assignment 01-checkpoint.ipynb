{
 "cells": [
  {
   "cell_type": "markdown",
   "metadata": {},
   "source": [
    "<img src=\"http://cfs22.simplicdn.net/ice9/new_logo.svgz \"/>\n",
    "\n",
    "# Assignment 01: Evaluate the GDP Dataset\n",
    "\n",
    "*The comments/sections provided are your cues to perform the assignment. You don't need to limit yourself to the number of rows/cells provided. You can add additional rows in each section to add more lines of code.*\n",
    "\n",
    "*If at any point in time you need help on solving this assignment, view our demo video to understand the different steps of the code.*\n",
    "\n",
    "**Happy coding!**\n",
    "\n",
    "* * *"
   ]
  },
  {
   "cell_type": "markdown",
   "metadata": {},
   "source": [
    "#### 1: View and add the dataset"
   ]
  },
  {
   "cell_type": "code",
   "execution_count": 8,
   "metadata": {},
   "outputs": [],
   "source": [
    "#Import required library\n",
    "import numpy as np\n",
    "from numpy import argmax,argmin"
   ]
  },
  {
   "cell_type": "code",
   "execution_count": 3,
   "metadata": {},
   "outputs": [],
   "source": [
    "#Manually add the dataset\n",
    "countries_list=['Algeria','Angola','Argentina','Australia','Austria','Bahamas','Bangladesh','Belarus','Belgium','Bhutan','Brazil','Bulgaria','Cambodia','Cameroon','Chile','China','Colombia','Cyprus','Denmark','El Salvador','Estonia','Ethiopia','Fiji','Finland','France','Georgia','Ghana','Grenada','Guinea','Haiti','Honduras','Hungary','India','Indonesia','Ireland','Italy','Japan','Kenya', 'South Korea','Liberia','Malaysia','Mexico', 'Morocco','Nepal','New Zealand','Norway','Pakistan', 'Peru','Qatar','Russia','Singapore','South Africa','Spain','Sweden','Switzerland','Thailand', 'United Arab Emirates','United Kingdom','United States','Uruguay','Venezuela','Vietnam','Zimbabwe']\n",
    "gdp_list=[2255.225482,629.9553062,11601.63022,25306.82494,27266.40335,19466.99052,588.3691778,2890.345675,24733.62696,1445.760002,4803.398244,2618.876037,590.4521124,665.7982328,7122.938458,2639.54156,3362.4656,15378.16704,30860.12808,2579.115607,6525.541272,229.6769525,2242.689259,27570.4852,23016.84778,1334.646773,402.6953275,6047.200797,394.1156638,385.5793827,1414.072488,5745.981529,837.7464011,1206.991065,27715.52837,18937.24998,39578.07441,478.2194906,16684.21278,279.2204061,5345.213415,6288.25324,1908.304416,274.8728621,14646.42094,40034.85063,672.1547506,3359.517402,36152.66676,3054.727742,33529.83052,3825.093781,15428.32098,33630.24604,39170.41371,2699.123242,21058.43643,28272.40661,37691.02733,9581.05659,5671.912202,757.4009286,347.7456605]"
   ]
  },
  {
   "cell_type": "markdown",
   "metadata": {
    "collapsed": true
   },
   "source": [
    "#### 2: Find and print the name of the country with the highest GDP"
   ]
  },
  {
   "cell_type": "code",
   "execution_count": 33,
   "metadata": {},
   "outputs": [
    {
     "data": {
      "text/plain": [
       "40034.85063"
      ]
     },
     "execution_count": 33,
     "metadata": {},
     "output_type": "execute_result"
    }
   ],
   "source": [
    "#Use the argmax() method to find the highest GDP\n",
    "\n",
    "gdp_list[argmax(gdp_list)]"
   ]
  },
  {
   "cell_type": "code",
   "execution_count": 10,
   "metadata": {},
   "outputs": [
    {
     "data": {
      "text/plain": [
       "'Norway'"
      ]
     },
     "execution_count": 10,
     "metadata": {},
     "output_type": "execute_result"
    }
   ],
   "source": [
    "#Print the name of the country\n",
    "countries_list[argmax(gdp_list)]"
   ]
  },
  {
   "cell_type": "markdown",
   "metadata": {},
   "source": [
    "#### 3: Find and print the name of the country with the lowest GDP"
   ]
  },
  {
   "cell_type": "code",
   "execution_count": 15,
   "metadata": {},
   "outputs": [
    {
     "data": {
      "text/plain": [
       "229.6769525"
      ]
     },
     "execution_count": 15,
     "metadata": {},
     "output_type": "execute_result"
    }
   ],
   "source": [
    "#Use the argmin() method to find the lowest GDP\n",
    "#np.min(gdp_list)\n",
    "gdp_list[argmin(gdp_list)]"
   ]
  },
  {
   "cell_type": "code",
   "execution_count": 16,
   "metadata": {},
   "outputs": [
    {
     "data": {
      "text/plain": [
       "'Ethiopia'"
      ]
     },
     "execution_count": 16,
     "metadata": {},
     "output_type": "execute_result"
    }
   ],
   "source": [
    "#Print the name of the country\n",
    "countries_list[argmin(gdp_list)]"
   ]
  },
  {
   "cell_type": "markdown",
   "metadata": {},
   "source": [
    "#### 4: Print out text ('evaluating country') and input value ('country name') iteratively"
   ]
  },
  {
   "cell_type": "code",
   "execution_count": 17,
   "metadata": {},
   "outputs": [
    {
     "name": "stdout",
     "output_type": "stream",
     "text": [
      "Evaluating country Algeria\n",
      "Evaluating country Angola\n",
      "Evaluating country Argentina\n",
      "Evaluating country Australia\n",
      "Evaluating country Austria\n",
      "Evaluating country Bahamas\n",
      "Evaluating country Bangladesh\n",
      "Evaluating country Belarus\n",
      "Evaluating country Belgium\n",
      "Evaluating country Bhutan\n",
      "Evaluating country Brazil\n",
      "Evaluating country Bulgaria\n",
      "Evaluating country Cambodia\n",
      "Evaluating country Cameroon\n",
      "Evaluating country Chile\n",
      "Evaluating country China\n",
      "Evaluating country Colombia\n",
      "Evaluating country Cyprus\n",
      "Evaluating country Denmark\n",
      "Evaluating country El Salvador\n",
      "Evaluating country Estonia\n",
      "Evaluating country Ethiopia\n",
      "Evaluating country Fiji\n",
      "Evaluating country Finland\n",
      "Evaluating country France\n",
      "Evaluating country Georgia\n",
      "Evaluating country Ghana\n",
      "Evaluating country Grenada\n",
      "Evaluating country Guinea\n",
      "Evaluating country Haiti\n",
      "Evaluating country Honduras\n",
      "Evaluating country Hungary\n",
      "Evaluating country India\n",
      "Evaluating country Indonesia\n",
      "Evaluating country Ireland\n",
      "Evaluating country Italy\n",
      "Evaluating country Japan\n",
      "Evaluating country Kenya\n",
      "Evaluating country South Korea\n",
      "Evaluating country Liberia\n",
      "Evaluating country Malaysia\n",
      "Evaluating country Mexico\n",
      "Evaluating country Morocco\n",
      "Evaluating country Nepal\n",
      "Evaluating country New Zealand\n",
      "Evaluating country Norway\n",
      "Evaluating country Pakistan\n",
      "Evaluating country Peru\n",
      "Evaluating country Qatar\n",
      "Evaluating country Russia\n",
      "Evaluating country Singapore\n",
      "Evaluating country South Africa\n",
      "Evaluating country Spain\n",
      "Evaluating country Sweden\n",
      "Evaluating country Switzerland\n",
      "Evaluating country Thailand\n",
      "Evaluating country United Arab Emirates\n",
      "Evaluating country United Kingdom\n",
      "Evaluating country United States\n",
      "Evaluating country Uruguay\n",
      "Evaluating country Venezuela\n",
      "Evaluating country Vietnam\n",
      "Evaluating country Zimbabwe\n"
     ]
    }
   ],
   "source": [
    "#Use a for loop to print the required output\n",
    "for country in countries_list:\n",
    "    print(\"Evaluating country\", country) # alternative print(\"evaluating country {}\".format(country))"
   ]
  },
  {
   "cell_type": "markdown",
   "metadata": {},
   "source": [
    "#### 5: Print out the entire list of the countries with their GDPs"
   ]
  },
  {
   "cell_type": "code",
   "execution_count": 41,
   "metadata": {},
   "outputs": [
    {
     "name": "stdout",
     "output_type": "stream",
     "text": [
      "The GPD of Algeria is 2255.225482\n",
      "The GPD of Angola is 629.9553062\n",
      "The GPD of Argentina is 11601.63022\n",
      "The GPD of Australia is 25306.82494\n",
      "The GPD of Austria is 27266.40335\n",
      "The GPD of Bahamas is 19466.99052\n",
      "The GPD of Bangladesh is 588.3691778\n",
      "The GPD of Belarus is 2890.345675\n",
      "The GPD of Belgium is 24733.62696\n",
      "The GPD of Bhutan is 1445.760002\n",
      "The GPD of Brazil is 4803.398244\n",
      "The GPD of Bulgaria is 2618.876037\n",
      "The GPD of Cambodia is 590.4521124\n",
      "The GPD of Cameroon is 665.7982328\n",
      "The GPD of Chile is 7122.938458\n",
      "The GPD of China is 2639.54156\n",
      "The GPD of Colombia is 3362.4656\n",
      "The GPD of Cyprus is 15378.16704\n",
      "The GPD of Denmark is 30860.12808\n",
      "The GPD of El Salvador is 2579.115607\n",
      "The GPD of Estonia is 6525.541272\n",
      "The GPD of Ethiopia is 229.6769525\n",
      "The GPD of Fiji is 2242.689259\n",
      "The GPD of Finland is 27570.4852\n",
      "The GPD of France is 23016.84778\n",
      "The GPD of Georgia is 1334.646773\n",
      "The GPD of Ghana is 402.6953275\n",
      "The GPD of Grenada is 6047.200797\n",
      "The GPD of Guinea is 394.1156638\n",
      "The GPD of Haiti is 385.5793827\n",
      "The GPD of Honduras is 1414.072488\n",
      "The GPD of Hungary is 5745.981529\n",
      "The GPD of India is 837.7464011\n",
      "The GPD of Indonesia is 1206.991065\n",
      "The GPD of Ireland is 27715.52837\n",
      "The GPD of Italy is 18937.24998\n",
      "The GPD of Japan is 39578.07441\n",
      "The GPD of Kenya is 478.2194906\n",
      "The GPD of South Korea is 16684.21278\n",
      "The GPD of Liberia is 279.2204061\n",
      "The GPD of Malaysia is 5345.213415\n",
      "The GPD of Mexico is 6288.25324\n",
      "The GPD of Morocco is 1908.304416\n",
      "The GPD of Nepal is 274.8728621\n",
      "The GPD of New Zealand is 14646.42094\n",
      "The GPD of Norway is 40034.85063\n",
      "The GPD of Pakistan is 672.1547506\n",
      "The GPD of Peru is 3359.517402\n",
      "The GPD of Qatar is 36152.66676\n",
      "The GPD of Russia is 3054.727742\n",
      "The GPD of Singapore is 33529.83052\n",
      "The GPD of South Africa is 3825.093781\n",
      "The GPD of Spain is 15428.32098\n",
      "The GPD of Sweden is 33630.24604\n",
      "The GPD of Switzerland is 39170.41371\n",
      "The GPD of Thailand is 2699.123242\n",
      "The GPD of United Arab Emirates is 21058.43643\n",
      "The GPD of United Kingdom is 28272.40661\n",
      "The GPD of United States is 37691.02733\n",
      "The GPD of Uruguay is 9581.05659\n",
      "The GPD of Venezuela is 5671.912202\n",
      "The GPD of Vietnam is 757.4009286\n",
      "The GPD of Zimbabwe is 347.7456605\n"
     ]
    }
   ],
   "source": [
    "#Use a for loop to print the required list\n",
    "for i in range(len(countries_list)):\n",
    "    #print(countries_list[i], gdp_list[i] )\n",
    "    print(\"The GPD of {} is {}\".format(countries_list[i],gdp_list[i]))"
   ]
  },
  {
   "cell_type": "markdown",
   "metadata": {},
   "source": [
    "#### 6: Print the following:\n",
    "1. Highest GPD value\n",
    "2. Lowest GDP value\n",
    "3. Mean GDP value\n",
    "4. Standardized GDP value\n",
    "5. Sum of all the GDPs"
   ]
  },
  {
   "cell_type": "code",
   "execution_count": 27,
   "metadata": {},
   "outputs": [
    {
     "data": {
      "text/plain": [
       "40034.85063"
      ]
     },
     "execution_count": 27,
     "metadata": {},
     "output_type": "execute_result"
    }
   ],
   "source": [
    "np.max(gdp_list)"
   ]
  },
  {
   "cell_type": "code",
   "execution_count": 28,
   "metadata": {},
   "outputs": [
    {
     "data": {
      "text/plain": [
       "229.6769525"
      ]
     },
     "execution_count": 28,
     "metadata": {},
     "output_type": "execute_result"
    }
   ],
   "source": [
    "np.min(gdp_list)"
   ]
  },
  {
   "cell_type": "code",
   "execution_count": 29,
   "metadata": {},
   "outputs": [
    {
     "data": {
      "text/plain": [
       "11289.409271639683"
      ]
     },
     "execution_count": 29,
     "metadata": {},
     "output_type": "execute_result"
    }
   ],
   "source": [
    "np.mean(gdp_list)"
   ]
  },
  {
   "cell_type": "code",
   "execution_count": 42,
   "metadata": {},
   "outputs": [
    {
     "data": {
      "text/plain": [
       "12743.828910617945"
      ]
     },
     "execution_count": 42,
     "metadata": {},
     "output_type": "execute_result"
    }
   ],
   "source": [
    "np.std(gdp_list)"
   ]
  },
  {
   "cell_type": "code",
   "execution_count": 30,
   "metadata": {},
   "outputs": [
    {
     "data": {
      "text/plain": [
       "711232.7841133"
      ]
     },
     "execution_count": 30,
     "metadata": {},
     "output_type": "execute_result"
    }
   ],
   "source": [
    "np.sum(gdp_list)"
   ]
  },
  {
   "cell_type": "code",
   "execution_count": 39,
   "metadata": {},
   "outputs": [],
   "source": [
    "dictionary={}\n",
    "\n",
    "for i in range(len(countries_list)):\n",
    "    dictionary[countries_list[i]]=gdp_list[i]"
   ]
  },
  {
   "cell_type": "code",
   "execution_count": null,
   "metadata": {},
   "outputs": [],
   "source": []
  }
 ],
 "metadata": {
  "kernelspec": {
   "display_name": "Python 3 (ipykernel)",
   "language": "python",
   "name": "python3"
  },
  "language_info": {
   "codemirror_mode": {
    "name": "ipython",
    "version": 3
   },
   "file_extension": ".py",
   "mimetype": "text/x-python",
   "name": "python",
   "nbconvert_exporter": "python",
   "pygments_lexer": "ipython3",
   "version": "3.9.7"
  }
 },
 "nbformat": 4,
 "nbformat_minor": 1
}
