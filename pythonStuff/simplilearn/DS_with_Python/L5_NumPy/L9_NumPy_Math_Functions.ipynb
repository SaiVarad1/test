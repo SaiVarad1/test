{
 "cells": [
  {
   "cell_type": "code",
   "execution_count": 1,
   "id": "1c653408",
   "metadata": {},
   "outputs": [],
   "source": [
    "import numpy as np"
   ]
  },
  {
   "cell_type": "code",
   "execution_count": 2,
   "id": "95d9bb1b",
   "metadata": {},
   "outputs": [
    {
     "data": {
      "text/plain": [
       "array([1.41421356, 2.        , 3.        , 4.        ])"
      ]
     },
     "execution_count": 2,
     "metadata": {},
     "output_type": "execute_result"
    }
   ],
   "source": [
    "#UFUNC\n",
    "np_sqrt=np.sqrt([2,4,9,16])\n",
    "np_sqrt"
   ]
  },
  {
   "cell_type": "code",
   "execution_count": 3,
   "id": "42c71df8",
   "metadata": {},
   "outputs": [
    {
     "data": {
      "text/plain": [
       "1.0"
      ]
     },
     "execution_count": 3,
     "metadata": {},
     "output_type": "execute_result"
    }
   ],
   "source": [
    "np.cos(0)"
   ]
  },
  {
   "cell_type": "code",
   "execution_count": 4,
   "id": "a8eee5d7",
   "metadata": {},
   "outputs": [
    {
     "data": {
      "text/plain": [
       "1.0"
      ]
     },
     "execution_count": 4,
     "metadata": {},
     "output_type": "execute_result"
    }
   ],
   "source": [
    "np.sin(np.pi/2)"
   ]
  },
  {
   "cell_type": "code",
   "execution_count": 5,
   "id": "2061e23b",
   "metadata": {},
   "outputs": [
    {
     "data": {
      "text/plain": [
       "6.123233995736766e-17"
      ]
     },
     "execution_count": 5,
     "metadata": {},
     "output_type": "execute_result"
    }
   ],
   "source": [
    "np.cos(np.pi/2)"
   ]
  },
  {
   "cell_type": "code",
   "execution_count": 6,
   "id": "2f1ae164",
   "metadata": {},
   "outputs": [
    {
     "data": {
      "text/plain": [
       "array([1., 1., 2., 2.])"
      ]
     },
     "execution_count": 6,
     "metadata": {},
     "output_type": "execute_result"
    }
   ],
   "source": [
    "np.floor([1.5,1.6,2.7,2.8])"
   ]
  },
  {
   "cell_type": "code",
   "execution_count": 7,
   "id": "24aa2213",
   "metadata": {},
   "outputs": [
    {
     "data": {
      "text/plain": [
       "array([1.        , 2.71828183, 7.3890561 ])"
      ]
     },
     "execution_count": 7,
     "metadata": {},
     "output_type": "execute_result"
    }
   ],
   "source": [
    "np.exp([0,1,2])"
   ]
  },
  {
   "cell_type": "code",
   "execution_count": 8,
   "id": "49dca5a1",
   "metadata": {},
   "outputs": [],
   "source": [
    "#Shape manipulation\n",
    "\n",
    "new_cyclist_trials=np.array([[10,15,17,26,13,19], [12,11,21,24,14,23]])"
   ]
  },
  {
   "cell_type": "code",
   "execution_count": 9,
   "id": "cbc20a30",
   "metadata": {},
   "outputs": [
    {
     "data": {
      "text/plain": [
       "array([10, 15, 17, 26, 13, 19, 12, 11, 21, 24, 14, 23])"
      ]
     },
     "execution_count": 9,
     "metadata": {},
     "output_type": "execute_result"
    }
   ],
   "source": [
    "#flattening\n",
    "new_cyclist_trials.ravel()"
   ]
  },
  {
   "cell_type": "code",
   "execution_count": 10,
   "id": "f1783659",
   "metadata": {},
   "outputs": [
    {
     "data": {
      "text/plain": [
       "array([[10, 15, 17, 26, 13, 19],\n",
       "       [12, 11, 21, 24, 14, 23]])"
      ]
     },
     "execution_count": 10,
     "metadata": {},
     "output_type": "execute_result"
    }
   ],
   "source": [
    "new_cyclist_trials # doesnt affect original array"
   ]
  },
  {
   "cell_type": "code",
   "execution_count": 13,
   "id": "353aad68",
   "metadata": {},
   "outputs": [
    {
     "data": {
      "text/plain": [
       "array([[10, 15, 17, 26],\n",
       "       [13, 19, 12, 11],\n",
       "       [21, 24, 14, 23]])"
      ]
     },
     "execution_count": 13,
     "metadata": {},
     "output_type": "execute_result"
    }
   ],
   "source": [
    "new_cyclist_trials.reshape(3,4)"
   ]
  },
  {
   "cell_type": "code",
   "execution_count": 14,
   "id": "bbf20a7e",
   "metadata": {},
   "outputs": [
    {
     "data": {
      "text/plain": [
       "array([[10, 15, 17, 26, 13, 19],\n",
       "       [12, 11, 21, 24, 14, 23]])"
      ]
     },
     "execution_count": 14,
     "metadata": {},
     "output_type": "execute_result"
    }
   ],
   "source": [
    "new_cyclist_trials\n"
   ]
  },
  {
   "cell_type": "code",
   "execution_count": 17,
   "id": "0eda7659",
   "metadata": {},
   "outputs": [],
   "source": [
    "new_cyclist_trials.resize(3,4)"
   ]
  },
  {
   "cell_type": "code",
   "execution_count": 18,
   "id": "67149f34",
   "metadata": {},
   "outputs": [
    {
     "data": {
      "text/plain": [
       "array([[10, 15, 17, 26],\n",
       "       [13, 19, 12, 11],\n",
       "       [21, 24, 14, 23]])"
      ]
     },
     "execution_count": 18,
     "metadata": {},
     "output_type": "execute_result"
    }
   ],
   "source": [
    "new_cyclist_trials # affects original array"
   ]
  },
  {
   "cell_type": "code",
   "execution_count": 19,
   "id": "95a49f3d",
   "metadata": {},
   "outputs": [
    {
     "data": {
      "text/plain": [
       "array([[10, 15, 17, 26, 13, 19],\n",
       "       [12, 11, 21, 24, 14, 23]])"
      ]
     },
     "execution_count": 19,
     "metadata": {},
     "output_type": "execute_result"
    }
   ],
   "source": [
    "new_cyclist_trials.resize(2,6)\n",
    "new_cyclist_trials"
   ]
  },
  {
   "cell_type": "code",
   "execution_count": 20,
   "id": "2f46f1e0",
   "metadata": {},
   "outputs": [
    {
     "data": {
      "text/plain": [
       "[array([[10, 15, 17],\n",
       "        [12, 11, 21]]),\n",
       " array([[26, 13, 19],\n",
       "        [24, 14, 23]])]"
      ]
     },
     "execution_count": 20,
     "metadata": {},
     "output_type": "execute_result"
    }
   ],
   "source": [
    "#hsplit\n",
    "np.hsplit(new_cyclist_trials,2)"
   ]
  },
  {
   "cell_type": "code",
   "execution_count": 23,
   "id": "1ae3a7c5",
   "metadata": {},
   "outputs": [
    {
     "data": {
      "text/plain": [
       "array([10, 15, 17, 26, 13, 19, 12, 11, 21, 24, 14, 23,  1,  2,  3,  4,  5,\n",
       "        6])"
      ]
     },
     "execution_count": 23,
     "metadata": {},
     "output_type": "execute_result"
    }
   ],
   "source": [
    "new_cyclist_trials=new_cyclist_trials.ravel()\n",
    "new_cyclist_trials2=np.array([1,2,3,4,5,6])\n",
    "np.hstack((new_cyclist_trials,new_cyclist_trials2))"
   ]
  },
  {
   "cell_type": "code",
   "execution_count": 24,
   "id": "ab9f641f",
   "metadata": {},
   "outputs": [
    {
     "data": {
      "text/plain": [
       "(12,)"
      ]
     },
     "execution_count": 24,
     "metadata": {},
     "output_type": "execute_result"
    }
   ],
   "source": [
    "#transpose\n",
    "new_cyclist_trials.shape"
   ]
  },
  {
   "cell_type": "code",
   "execution_count": 28,
   "id": "fd42da2e",
   "metadata": {},
   "outputs": [
    {
     "data": {
      "text/plain": [
       "array([[10, 15, 17, 26],\n",
       "       [13, 19, 12, 11],\n",
       "       [21, 24, 14, 23]])"
      ]
     },
     "execution_count": 28,
     "metadata": {},
     "output_type": "execute_result"
    }
   ],
   "source": [
    "new_cyclist_trials.resize((3,4))\n",
    "new_cyclist_trials"
   ]
  },
  {
   "cell_type": "code",
   "execution_count": 29,
   "id": "539f8e8e",
   "metadata": {},
   "outputs": [
    {
     "data": {
      "text/plain": [
       "array([[10, 13, 21],\n",
       "       [15, 19, 24],\n",
       "       [17, 12, 14],\n",
       "       [26, 11, 23]])"
      ]
     },
     "execution_count": 29,
     "metadata": {},
     "output_type": "execute_result"
    }
   ],
   "source": [
    "new_cyclist_trials.transpose()"
   ]
  },
  {
   "cell_type": "code",
   "execution_count": 30,
   "id": "be52de0d",
   "metadata": {},
   "outputs": [
    {
     "data": {
      "text/plain": [
       "43"
      ]
     },
     "execution_count": 30,
     "metadata": {},
     "output_type": "execute_result"
    }
   ],
   "source": [
    "new_cyclist_trials.trace()"
   ]
  },
  {
   "cell_type": "code",
   "execution_count": 38,
   "id": "0cd4a317",
   "metadata": {},
   "outputs": [
    {
     "data": {
      "text/plain": [
       "array([[10, 15, 17, 26],\n",
       "       [13, 19, 12, 11],\n",
       "       [21, 24, 14, 23]])"
      ]
     },
     "execution_count": 38,
     "metadata": {},
     "output_type": "execute_result"
    }
   ],
   "source": [
    "new_cyclist_trials"
   ]
  },
  {
   "cell_type": "code",
   "execution_count": 50,
   "id": "10e183c6",
   "metadata": {},
   "outputs": [
    {
     "data": {
      "text/plain": [
       "array([[10, 15, 17],\n",
       "       [13, 19, 12],\n",
       "       [21, 24, 14]])"
      ]
     },
     "execution_count": 50,
     "metadata": {},
     "output_type": "execute_result"
    }
   ],
   "source": [
    "new_cyclist_trials_square=new_cyclist_trials[:,0:3]\n",
    "new_cyclist_trials_square"
   ]
  },
  {
   "cell_type": "code",
   "execution_count": 51,
   "id": "2c7bef09",
   "metadata": {},
   "outputs": [
    {
     "data": {
      "text/plain": [
       "array([[ 0.03389831, -0.30508475,  0.22033898],\n",
       "       [-0.10785824,  0.33436055, -0.15562404],\n",
       "       [ 0.13405239, -0.1155624 ,  0.00770416]])"
      ]
     },
     "execution_count": 51,
     "metadata": {},
     "output_type": "execute_result"
    }
   ],
   "source": [
    "np.linalg.inv(new_cyclist_trials_square)"
   ]
  },
  {
   "cell_type": "code",
   "execution_count": null,
   "id": "3140d990",
   "metadata": {},
   "outputs": [],
   "source": []
  }
 ],
 "metadata": {
  "kernelspec": {
   "display_name": "Python 3 (ipykernel)",
   "language": "python",
   "name": "python3"
  },
  "language_info": {
   "codemirror_mode": {
    "name": "ipython",
    "version": 3
   },
   "file_extension": ".py",
   "mimetype": "text/x-python",
   "name": "python",
   "nbconvert_exporter": "python",
   "pygments_lexer": "ipython3",
   "version": "3.9.7"
  }
 },
 "nbformat": 4,
 "nbformat_minor": 5
}
