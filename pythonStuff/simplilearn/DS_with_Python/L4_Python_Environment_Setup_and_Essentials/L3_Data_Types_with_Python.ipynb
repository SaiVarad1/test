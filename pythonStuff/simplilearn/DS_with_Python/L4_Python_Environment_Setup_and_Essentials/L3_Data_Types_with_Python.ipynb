{
 "cells": [
  {
   "cell_type": "code",
   "execution_count": 1,
   "id": "6bb73ae8",
   "metadata": {},
   "outputs": [],
   "source": [
    "import sys\n",
    "import platform"
   ]
  },
  {
   "cell_type": "code",
   "execution_count": 2,
   "id": "856f5126",
   "metadata": {},
   "outputs": [
    {
     "name": "stdout",
     "output_type": "stream",
     "text": [
      "3.9.7 (default, Sep 16 2021, 16:59:28) [MSC v.1916 64 bit (AMD64)]\n"
     ]
    }
   ],
   "source": [
    "print(sys.version)"
   ]
  },
  {
   "cell_type": "code",
   "execution_count": 3,
   "id": "ddd4bdcf",
   "metadata": {},
   "outputs": [
    {
     "data": {
      "text/plain": [
       "'3.9.7'"
      ]
     },
     "execution_count": 3,
     "metadata": {},
     "output_type": "execute_result"
    }
   ],
   "source": [
    "platform.python_version()"
   ]
  },
  {
   "cell_type": "code",
   "execution_count": 4,
   "id": "f420fa64",
   "metadata": {},
   "outputs": [
    {
     "name": "stdout",
     "output_type": "stream",
     "text": [
      "Hello world\n"
     ]
    }
   ],
   "source": [
    "print(\"Hello world\")"
   ]
  },
  {
   "cell_type": "code",
   "execution_count": 5,
   "id": "11cccbff",
   "metadata": {},
   "outputs": [
    {
     "data": {
      "text/plain": [
       "8"
      ]
     },
     "execution_count": 5,
     "metadata": {},
     "output_type": "execute_result"
    }
   ],
   "source": [
    "3+5"
   ]
  },
  {
   "cell_type": "code",
   "execution_count": 6,
   "id": "0e66e2bd",
   "metadata": {},
   "outputs": [
    {
     "data": {
      "text/plain": [
       "32"
      ]
     },
     "execution_count": 6,
     "metadata": {},
     "output_type": "execute_result"
    }
   ],
   "source": [
    "8*4"
   ]
  },
  {
   "cell_type": "code",
   "execution_count": 7,
   "id": "5a644115",
   "metadata": {},
   "outputs": [],
   "source": [
    "#assignment\n",
    "first_string_var= \"test\"\n",
    "first_integer_var=123"
   ]
  },
  {
   "cell_type": "code",
   "execution_count": 8,
   "id": "357e62d2",
   "metadata": {},
   "outputs": [
    {
     "name": "stdout",
     "output_type": "stream",
     "text": [
      "123\n",
      "test\n"
     ]
    }
   ],
   "source": [
    "print(first_integer_var)\n",
    "print(first_string_var)"
   ]
  },
  {
   "cell_type": "code",
   "execution_count": 9,
   "id": "14f71522",
   "metadata": {},
   "outputs": [
    {
     "name": "stdout",
     "output_type": "stream",
     "text": [
      "<class 'int'>\n",
      "<class 'str'>\n"
     ]
    }
   ],
   "source": [
    "print(type(first_integer_var))\n",
    "print(type(first_string_var))"
   ]
  },
  {
   "cell_type": "code",
   "execution_count": 10,
   "id": "ceeff6e8",
   "metadata": {},
   "outputs": [],
   "source": [
    "integer_x,integer_y=5,4"
   ]
  },
  {
   "cell_type": "code",
   "execution_count": 11,
   "id": "e1e6bc59",
   "metadata": {},
   "outputs": [
    {
     "name": "stdout",
     "output_type": "stream",
     "text": [
      "5\n"
     ]
    }
   ],
   "source": [
    "print(integer_x)"
   ]
  },
  {
   "cell_type": "code",
   "execution_count": 12,
   "id": "54e0b344",
   "metadata": {},
   "outputs": [
    {
     "data": {
      "text/plain": [
       "4"
      ]
     },
     "execution_count": 12,
     "metadata": {},
     "output_type": "execute_result"
    }
   ],
   "source": [
    "integer_y"
   ]
  },
  {
   "cell_type": "code",
   "execution_count": 13,
   "id": "02aa044a",
   "metadata": {},
   "outputs": [],
   "source": [
    "# Data structures\n",
    "\n",
    "#Tuple: one D, immutable ordered sequence of mixed data types\n",
    "\n",
    "first_tuple=(12,'jack',45.6,(3,2))"
   ]
  },
  {
   "cell_type": "code",
   "execution_count": 14,
   "id": "339678d3",
   "metadata": {},
   "outputs": [
    {
     "data": {
      "text/plain": [
       "(12, 'jack', 45.6, (3, 2))"
      ]
     },
     "execution_count": 14,
     "metadata": {},
     "output_type": "execute_result"
    }
   ],
   "source": [
    "first_tuple"
   ]
  },
  {
   "cell_type": "code",
   "execution_count": 15,
   "id": "ac5ba9ef",
   "metadata": {},
   "outputs": [
    {
     "data": {
      "text/plain": [
       "'jack'"
      ]
     },
     "execution_count": 15,
     "metadata": {},
     "output_type": "execute_result"
    }
   ],
   "source": [
    "first_tuple[1]"
   ]
  },
  {
   "cell_type": "code",
   "execution_count": 16,
   "id": "2ebd0e30",
   "metadata": {},
   "outputs": [],
   "source": [
    "#cannot assign\n",
    "#first_tuple='Mark'"
   ]
  },
  {
   "cell_type": "code",
   "execution_count": 17,
   "id": "2b0c03df",
   "metadata": {},
   "outputs": [
    {
     "data": {
      "text/plain": [
       "('jack', 45.6, (3, 2))"
      ]
     },
     "execution_count": 17,
     "metadata": {},
     "output_type": "execute_result"
    }
   ],
   "source": [
    "first_tuple[1:4]"
   ]
  },
  {
   "cell_type": "code",
   "execution_count": 18,
   "id": "825b0edd",
   "metadata": {},
   "outputs": [],
   "source": [
    "# Lists\n",
    "\n",
    "first_list =['Mark',101,103.6,None]"
   ]
  },
  {
   "cell_type": "code",
   "execution_count": 19,
   "id": "c4b04ffa",
   "metadata": {},
   "outputs": [
    {
     "data": {
      "text/plain": [
       "['Mark', 101, 103.6, None]"
      ]
     },
     "execution_count": 19,
     "metadata": {},
     "output_type": "execute_result"
    }
   ],
   "source": [
    "first_list"
   ]
  },
  {
   "cell_type": "code",
   "execution_count": 20,
   "id": "8e9533c5",
   "metadata": {},
   "outputs": [
    {
     "data": {
      "text/plain": [
       "['Mark', 101, 103.6, None, 'Jack']"
      ]
     },
     "execution_count": 20,
     "metadata": {},
     "output_type": "execute_result"
    }
   ],
   "source": [
    "first_list.append(\"Jack\")\n",
    "first_list"
   ]
  },
  {
   "cell_type": "code",
   "execution_count": 21,
   "id": "ee2ca5b0",
   "metadata": {},
   "outputs": [
    {
     "data": {
      "text/plain": [
       "[101, 103.6, None, 'Jack']"
      ]
     },
     "execution_count": 21,
     "metadata": {},
     "output_type": "execute_result"
    }
   ],
   "source": [
    "first_list.remove(\"Mark\")\n",
    "first_list"
   ]
  },
  {
   "cell_type": "code",
   "execution_count": 22,
   "id": "0fd04022",
   "metadata": {},
   "outputs": [
    {
     "data": {
      "text/plain": [
       "[101, 103.6, 'Jack']"
      ]
     },
     "execution_count": 22,
     "metadata": {},
     "output_type": "execute_result"
    }
   ],
   "source": [
    "first_list.pop(2)\n",
    "first_list"
   ]
  },
  {
   "cell_type": "code",
   "execution_count": 23,
   "id": "a02e0880",
   "metadata": {},
   "outputs": [
    {
     "data": {
      "text/plain": [
       "[101, 'smith', 103.6, 'Jack']"
      ]
     },
     "execution_count": 23,
     "metadata": {},
     "output_type": "execute_result"
    }
   ],
   "source": [
    "first_list.insert(1,\"smith\")\n",
    "first_list"
   ]
  },
  {
   "cell_type": "code",
   "execution_count": 24,
   "id": "3f037d0a",
   "metadata": {},
   "outputs": [
    {
     "data": {
      "text/plain": [
       "{'John': 'john@abc.com', 'Kelly': 'kelly@gmail.com', 'id': [23, 81]}"
      ]
     },
     "execution_count": 24,
     "metadata": {},
     "output_type": "execute_result"
    }
   ],
   "source": [
    "# Dictionaries\n",
    "first_dict ={'John':'john@abc.com', \"Kelly\":'kelly@gmail.com','id':[23,81]}\n",
    "first_dict\n"
   ]
  },
  {
   "cell_type": "code",
   "execution_count": 27,
   "id": "2f23b501",
   "metadata": {},
   "outputs": [
    {
     "data": {
      "text/plain": [
       "dict_keys(['John', 'Kelly', 'id'])"
      ]
     },
     "execution_count": 27,
     "metadata": {},
     "output_type": "execute_result"
    }
   ],
   "source": [
    "first_dict.keys()\n"
   ]
  },
  {
   "cell_type": "code",
   "execution_count": 28,
   "id": "af731235",
   "metadata": {},
   "outputs": [
    {
     "data": {
      "text/plain": [
       "dict_values(['john@abc.com', 'kelly@gmail.com', [23, 81]])"
      ]
     },
     "execution_count": 28,
     "metadata": {},
     "output_type": "execute_result"
    }
   ],
   "source": [
    "first_dict.values()"
   ]
  },
  {
   "cell_type": "code",
   "execution_count": 31,
   "id": "51bf716c",
   "metadata": {},
   "outputs": [
    {
     "data": {
      "text/plain": [
       "'kelly@gmail.com'"
      ]
     },
     "execution_count": 31,
     "metadata": {},
     "output_type": "execute_result"
    }
   ],
   "source": [
    "first_dict[\"Kelly\"]"
   ]
  },
  {
   "cell_type": "code",
   "execution_count": 32,
   "id": "955f0e93",
   "metadata": {},
   "outputs": [
    {
     "data": {
      "text/plain": [
       "[23, 81]"
      ]
     },
     "execution_count": 32,
     "metadata": {},
     "output_type": "execute_result"
    }
   ],
   "source": [
    "first_dict['id']"
   ]
  },
  {
   "cell_type": "code",
   "execution_count": 33,
   "id": "8729df63",
   "metadata": {},
   "outputs": [
    {
     "data": {
      "text/plain": [
       "{'John': 'john@abc.com', 'Kelly': 'kelly@gmail.com', 'id': [23, 81]}"
      ]
     },
     "execution_count": 33,
     "metadata": {},
     "output_type": "execute_result"
    }
   ],
   "source": [
    "first_dict"
   ]
  },
  {
   "cell_type": "code",
   "execution_count": 34,
   "id": "b166b7f9",
   "metadata": {},
   "outputs": [
    {
     "data": {
      "text/plain": [
       "{'Ferrari', 'audi', 'bmw'}"
      ]
     },
     "execution_count": 34,
     "metadata": {},
     "output_type": "execute_result"
    }
   ],
   "source": [
    "# sets\n",
    "\n",
    "auto_survey=set([\"audi\",\"bmw\",\"bmw\",\"Ferrari\"])\n",
    "auto_survey"
   ]
  },
  {
   "cell_type": "code",
   "execution_count": 37,
   "id": "6a800509",
   "metadata": {},
   "outputs": [
    {
     "data": {
      "text/plain": [
       "{2, 3, 'audi'}"
      ]
     },
     "execution_count": 37,
     "metadata": {},
     "output_type": "execute_result"
    }
   ],
   "source": [
    "auto_survey1={\"audi\",3,2}\n",
    "type(auto_survey1)\n",
    "auto_survey1"
   ]
  },
  {
   "cell_type": "code",
   "execution_count": 38,
   "id": "ec30361b",
   "metadata": {},
   "outputs": [
    {
     "data": {
      "text/plain": [
       "{2, 3, 'Ferrari', 'audi', 'bmw'}"
      ]
     },
     "execution_count": 38,
     "metadata": {},
     "output_type": "execute_result"
    }
   ],
   "source": [
    "#combining sets\n",
    "\n",
    "combined_sets= auto_survey | auto_survey1\n",
    "combined_sets"
   ]
  },
  {
   "cell_type": "code",
   "execution_count": null,
   "id": "a89af662",
   "metadata": {},
   "outputs": [],
   "source": []
  }
 ],
 "metadata": {
  "kernelspec": {
   "display_name": "Python 3 (ipykernel)",
   "language": "python",
   "name": "python3"
  },
  "language_info": {
   "codemirror_mode": {
    "name": "ipython",
    "version": 3
   },
   "file_extension": ".py",
   "mimetype": "text/x-python",
   "name": "python",
   "nbconvert_exporter": "python",
   "pygments_lexer": "ipython3",
   "version": "3.9.7"
  }
 },
 "nbformat": 4,
 "nbformat_minor": 5
}
