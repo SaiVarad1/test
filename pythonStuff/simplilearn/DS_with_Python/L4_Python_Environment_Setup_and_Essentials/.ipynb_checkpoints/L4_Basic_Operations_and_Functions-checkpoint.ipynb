{
 "cells": [
  {
   "cell_type": "code",
   "execution_count": 1,
   "id": "5e989314",
   "metadata": {},
   "outputs": [],
   "source": [
    "#'in' operator\n",
    "\n",
    "student_list=[\"tom\",\"jack\",\"Nick\",\"Sarah\"]"
   ]
  },
  {
   "cell_type": "code",
   "execution_count": 2,
   "id": "dc7cbbb3",
   "metadata": {},
   "outputs": [
    {
     "data": {
      "text/plain": [
       "True"
      ]
     },
     "execution_count": 2,
     "metadata": {},
     "output_type": "execute_result"
    }
   ],
   "source": [
    "'Nick' in student_list"
   ]
  },
  {
   "cell_type": "code",
   "execution_count": 3,
   "id": "7e674379",
   "metadata": {},
   "outputs": [
    {
     "data": {
      "text/plain": [
       "False"
      ]
     },
     "execution_count": 3,
     "metadata": {},
     "output_type": "execute_result"
    }
   ],
   "source": [
    "\"Mark\" in student_list"
   ]
  },
  {
   "cell_type": "code",
   "execution_count": 4,
   "id": "44b7e42a",
   "metadata": {},
   "outputs": [],
   "source": [
    "word= \"encyclopedia\""
   ]
  },
  {
   "cell_type": "code",
   "execution_count": 5,
   "id": "2cddfbb0",
   "metadata": {},
   "outputs": [
    {
     "data": {
      "text/plain": [
       "False"
      ]
     },
     "execution_count": 5,
     "metadata": {},
     "output_type": "execute_result"
    }
   ],
   "source": [
    "'t' in word"
   ]
  },
  {
   "cell_type": "code",
   "execution_count": 6,
   "id": "0263d649",
   "metadata": {},
   "outputs": [
    {
     "data": {
      "text/plain": [
       "True"
      ]
     },
     "execution_count": 6,
     "metadata": {},
     "output_type": "execute_result"
    }
   ],
   "source": [
    "'i' in word"
   ]
  },
  {
   "cell_type": "code",
   "execution_count": 7,
   "id": "b96b13a8",
   "metadata": {},
   "outputs": [
    {
     "data": {
      "text/plain": [
       "(71, 123, 234, 54350)"
      ]
     },
     "execution_count": 7,
     "metadata": {},
     "output_type": "execute_result"
    }
   ],
   "source": [
    "# + operator\n",
    "# concats Tuples, lists, and strings\n",
    "\n",
    "#tuples\n",
    "test1=(71,123)\n",
    "test2=(234,54350)\n",
    "\n",
    "test_concat= test1 + test2\n",
    "test_concat"
   ]
  },
  {
   "cell_type": "code",
   "execution_count": 8,
   "id": "c34ca58b",
   "metadata": {},
   "outputs": [
    {
     "data": {
      "text/plain": [
       "['USA', 'UK', 'Australia']"
      ]
     },
     "execution_count": 8,
     "metadata": {},
     "output_type": "execute_result"
    }
   ],
   "source": [
    "#lists\n",
    "country_list1=[\"USA\",\"UK\"]\n",
    "country_list2=[\"Australia\"]\n",
    "country_list_concat=country_list1 + country_list2\n",
    "country_list_concat"
   ]
  },
  {
   "cell_type": "code",
   "execution_count": 10,
   "id": "7752cec0",
   "metadata": {},
   "outputs": [
    {
     "data": {
      "text/plain": [
       "'George Washington'"
      ]
     },
     "execution_count": 10,
     "metadata": {},
     "output_type": "execute_result"
    }
   ],
   "source": [
    "#strings\n",
    "first_name= \"George\"\n",
    "last_name=\"Washington\"\n",
    "full_name=first_name+ \" \"+last_name\n",
    "full_name"
   ]
  },
  {
   "cell_type": "code",
   "execution_count": 11,
   "id": "c61dfb02",
   "metadata": {},
   "outputs": [
    {
     "data": {
      "text/plain": [
       "(1, 2, 3, 1, 2, 3, 1, 2, 3)"
      ]
     },
     "execution_count": 11,
     "metadata": {},
     "output_type": "execute_result"
    }
   ],
   "source": [
    "# * operator\n",
    "\n",
    "age=(1,2,3) *3\n",
    "age"
   ]
  },
  {
   "cell_type": "code",
   "execution_count": 12,
   "id": "8e9f2ca9",
   "metadata": {},
   "outputs": [
    {
     "data": {
      "text/plain": [
       "[1, 2, 344, 1, 2, 344, 1, 2, 344]"
      ]
     },
     "execution_count": 12,
     "metadata": {},
     "output_type": "execute_result"
    }
   ],
   "source": [
    "ID=[1,2,344]\n",
    "ID*3"
   ]
  },
  {
   "cell_type": "code",
   "execution_count": 13,
   "id": "95a2076d",
   "metadata": {},
   "outputs": [
    {
     "data": {
      "text/plain": [
       "'saisaisai'"
      ]
     },
     "execution_count": 13,
     "metadata": {},
     "output_type": "execute_result"
    }
   ],
   "source": [
    "name=\"sai\"*3\n",
    "name"
   ]
  },
  {
   "cell_type": "code",
   "execution_count": 17,
   "id": "24f418ff",
   "metadata": {},
   "outputs": [
    {
     "name": "stdout",
     "output_type": "stream",
     "text": [
      "jack\n"
     ]
    }
   ],
   "source": [
    "# Functions\n",
    "def my_first_function(name):\n",
    "    return name\n",
    "\n",
    "print(my_first_function(\"jack\"))"
   ]
  },
  {
   "cell_type": "code",
   "execution_count": 18,
   "id": "e43f8104",
   "metadata": {},
   "outputs": [
    {
     "name": "stdout",
     "output_type": "stream",
     "text": [
      "21 5.5 130\n"
     ]
    }
   ],
   "source": [
    "# returning multiple values\n",
    "\n",
    "def profile():\n",
    "    age=21\n",
    "    height=5.5\n",
    "    weight=130\n",
    "    return age, height, weight\n",
    "\n",
    "age,height,weight=profile()\n",
    "\n",
    "\n",
    "print(age,height,weight)"
   ]
  },
  {
   "cell_type": "code",
   "execution_count": 20,
   "id": "9d535c10",
   "metadata": {},
   "outputs": [
    {
     "data": {
      "text/plain": [
       "[(0, 'McDonalds'), (1, 'Wendys'), (2, 'Burger King')]"
      ]
     },
     "execution_count": 20,
     "metadata": {},
     "output_type": "execute_result"
    }
   ],
   "source": [
    "# enum\n",
    "\n",
    "# make list\n",
    "#enum the list\n",
    "#store in dictionary\n",
    "\n",
    "store_list=[\"McDonalds\",\"Wendys\", \"Burger King\"]\n",
    "\n",
    "list(enumerate(store_list))"
   ]
  },
  {
   "cell_type": "code",
   "execution_count": 21,
   "id": "d97539d2",
   "metadata": {},
   "outputs": [
    {
     "name": "stdout",
     "output_type": "stream",
     "text": [
      "McDonalds 0\n",
      "Wendys 1\n",
      "Burger King 2\n"
     ]
    }
   ],
   "source": [
    "for position,name in enumerate(store_list):\n",
    "    print (name, position)"
   ]
  },
  {
   "cell_type": "code",
   "execution_count": 22,
   "id": "3aab8f4b",
   "metadata": {},
   "outputs": [
    {
     "data": {
      "text/plain": [
       "{'McDonalds': 0, 'Wendys': 1, 'Burger King': 2}"
      ]
     },
     "execution_count": 22,
     "metadata": {},
     "output_type": "execute_result"
    }
   ],
   "source": [
    "store_map= dict((name,position) for position,name in enumerate(store_list))\n",
    "store_map"
   ]
  },
  {
   "cell_type": "code",
   "execution_count": 23,
   "id": "ecf740e8",
   "metadata": {},
   "outputs": [
    {
     "data": {
      "text/plain": [
       "[1, 2, 3, 4, 5]"
      ]
     },
     "execution_count": 23,
     "metadata": {},
     "output_type": "execute_result"
    }
   ],
   "source": [
    "#sorted\n",
    "\n",
    "sorted([1,4,2,5,3])"
   ]
  },
  {
   "cell_type": "code",
   "execution_count": 25,
   "id": "633dcfd2",
   "metadata": {},
   "outputs": [
    {
     "data": {
      "text/plain": [
       "list"
      ]
     },
     "execution_count": 25,
     "metadata": {},
     "output_type": "execute_result"
    }
   ],
   "source": [
    "type(sorted([1,4,2,5,3]))"
   ]
  },
  {
   "cell_type": "code",
   "execution_count": 24,
   "id": "1c7bd1b1",
   "metadata": {},
   "outputs": [
    {
     "data": {
      "text/plain": [
       "[' ',\n",
       " ' ',\n",
       " 'a',\n",
       " 'd',\n",
       " 'g',\n",
       " 'g',\n",
       " 'h',\n",
       " 'i',\n",
       " 'i',\n",
       " 'm',\n",
       " 'n',\n",
       " 'n',\n",
       " 'n',\n",
       " 'o',\n",
       " 'r',\n",
       " 'r',\n",
       " 's',\n",
       " 't',\n",
       " 't']"
      ]
     },
     "execution_count": 24,
     "metadata": {},
     "output_type": "execute_result"
    }
   ],
   "source": [
    "sorted(\"random string thing\")"
   ]
  },
  {
   "cell_type": "code",
   "execution_count": 26,
   "id": "b8a478e5",
   "metadata": {},
   "outputs": [],
   "source": [
    "# reversed\n",
    "\n",
    "num_list=range(20)"
   ]
  },
  {
   "cell_type": "code",
   "execution_count": 27,
   "id": "8b7ac36c",
   "metadata": {},
   "outputs": [
    {
     "data": {
      "text/plain": [
       "[19, 18, 17, 16, 15, 14, 13, 12, 11, 10, 9, 8, 7, 6, 5, 4, 3, 2, 1, 0]"
      ]
     },
     "execution_count": 27,
     "metadata": {},
     "output_type": "execute_result"
    }
   ],
   "source": [
    "list(reversed(num_list))"
   ]
  },
  {
   "cell_type": "code",
   "execution_count": 30,
   "id": "2bebd49f",
   "metadata": {},
   "outputs": [],
   "source": [
    "subjects=['math','science','english']\n",
    "subject_count=[\"one\",\"two\",\"three\"]\n",
    "total_subjects=list(zip(subjects,subject_count))"
   ]
  },
  {
   "cell_type": "code",
   "execution_count": 31,
   "id": "2f2a7369",
   "metadata": {},
   "outputs": [
    {
     "data": {
      "text/plain": [
       "[('math', 'one'), ('science', 'two'), ('english', 'three')]"
      ]
     },
     "execution_count": 31,
     "metadata": {},
     "output_type": "execute_result"
    }
   ],
   "source": [
    "total_subjects"
   ]
  },
  {
   "cell_type": "code",
   "execution_count": 32,
   "id": "6dc441eb",
   "metadata": {},
   "outputs": [],
   "source": [
    "# Exception handling\n",
    "\n",
    "def test_float(number):\n",
    "    try:\n",
    "        return float(number)\n",
    "    except ValueError:\n",
    "        return \"Not a number\""
   ]
  },
  {
   "cell_type": "code",
   "execution_count": 33,
   "id": "b7059656",
   "metadata": {},
   "outputs": [
    {
     "data": {
      "text/plain": [
       "3.0"
      ]
     },
     "execution_count": 33,
     "metadata": {},
     "output_type": "execute_result"
    }
   ],
   "source": [
    "test_float(3)"
   ]
  },
  {
   "cell_type": "code",
   "execution_count": 35,
   "id": "0613b87b",
   "metadata": {},
   "outputs": [
    {
     "data": {
      "text/plain": [
       "'Not a number'"
      ]
     },
     "execution_count": 35,
     "metadata": {},
     "output_type": "execute_result"
    }
   ],
   "source": [
    "test_float(\"sai\")"
   ]
  },
  {
   "cell_type": "code",
   "execution_count": null,
   "id": "947fc5c0",
   "metadata": {},
   "outputs": [],
   "source": []
  }
 ],
 "metadata": {
  "kernelspec": {
   "display_name": "Python 3 (ipykernel)",
   "language": "python",
   "name": "python3"
  },
  "language_info": {
   "codemirror_mode": {
    "name": "ipython",
    "version": 3
   },
   "file_extension": ".py",
   "mimetype": "text/x-python",
   "name": "python",
   "nbconvert_exporter": "python",
   "pygments_lexer": "ipython3",
   "version": "3.9.7"
  }
 },
 "nbformat": 4,
 "nbformat_minor": 5
}
