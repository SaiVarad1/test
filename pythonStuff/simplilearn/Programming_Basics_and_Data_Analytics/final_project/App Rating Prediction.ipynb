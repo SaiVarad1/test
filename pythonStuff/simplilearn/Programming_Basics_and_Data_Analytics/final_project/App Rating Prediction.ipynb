{
 "cells": [
  {
   "cell_type": "code",
   "execution_count": 1,
   "id": "75ec2340",
   "metadata": {},
   "outputs": [],
   "source": [
    "# Goal: Predict which apps will have the highest ratings\n",
    "# importing libraries\n",
    "import pandas as pd\n",
    "import numpy as np\n",
    "import seaborn as sns\n",
    "%matplotlib inline \n",
    "from sklearn.model_selection import train_test_split"
   ]
  },
  {
   "cell_type": "code",
   "execution_count": 2,
   "id": "a2ab9e03",
   "metadata": {},
   "outputs": [],
   "source": [
    "# 1. Load the data file using pandas\n",
    "df = pd.read_csv(\"googleplaystore.csv\")\n"
   ]
  },
  {
   "cell_type": "code",
   "execution_count": 3,
   "id": "e65a2129",
   "metadata": {},
   "outputs": [
    {
     "data": {
      "text/html": [
       "<div>\n",
       "<style scoped>\n",
       "    .dataframe tbody tr th:only-of-type {\n",
       "        vertical-align: middle;\n",
       "    }\n",
       "\n",
       "    .dataframe tbody tr th {\n",
       "        vertical-align: top;\n",
       "    }\n",
       "\n",
       "    .dataframe thead th {\n",
       "        text-align: right;\n",
       "    }\n",
       "</style>\n",
       "<table border=\"1\" class=\"dataframe\">\n",
       "  <thead>\n",
       "    <tr style=\"text-align: right;\">\n",
       "      <th></th>\n",
       "      <th>App</th>\n",
       "      <th>Category</th>\n",
       "      <th>Rating</th>\n",
       "      <th>Reviews</th>\n",
       "      <th>Size</th>\n",
       "      <th>Installs</th>\n",
       "      <th>Type</th>\n",
       "      <th>Price</th>\n",
       "      <th>Content Rating</th>\n",
       "      <th>Genres</th>\n",
       "      <th>Last Updated</th>\n",
       "      <th>Current Ver</th>\n",
       "      <th>Android Ver</th>\n",
       "    </tr>\n",
       "  </thead>\n",
       "  <tbody>\n",
       "    <tr>\n",
       "      <th>0</th>\n",
       "      <td>Photo Editor &amp; Candy Camera &amp; Grid &amp; ScrapBook</td>\n",
       "      <td>ART_AND_DESIGN</td>\n",
       "      <td>4.1</td>\n",
       "      <td>159</td>\n",
       "      <td>19M</td>\n",
       "      <td>10,000+</td>\n",
       "      <td>Free</td>\n",
       "      <td>0</td>\n",
       "      <td>Everyone</td>\n",
       "      <td>Art &amp; Design</td>\n",
       "      <td>January 7, 2018</td>\n",
       "      <td>1.0.0</td>\n",
       "      <td>4.0.3 and up</td>\n",
       "    </tr>\n",
       "    <tr>\n",
       "      <th>1</th>\n",
       "      <td>Coloring book moana</td>\n",
       "      <td>ART_AND_DESIGN</td>\n",
       "      <td>3.9</td>\n",
       "      <td>967</td>\n",
       "      <td>14M</td>\n",
       "      <td>500,000+</td>\n",
       "      <td>Free</td>\n",
       "      <td>0</td>\n",
       "      <td>Everyone</td>\n",
       "      <td>Art &amp; Design;Pretend Play</td>\n",
       "      <td>January 15, 2018</td>\n",
       "      <td>2.0.0</td>\n",
       "      <td>4.0.3 and up</td>\n",
       "    </tr>\n",
       "    <tr>\n",
       "      <th>2</th>\n",
       "      <td>U Launcher Lite – FREE Live Cool Themes, Hide ...</td>\n",
       "      <td>ART_AND_DESIGN</td>\n",
       "      <td>4.7</td>\n",
       "      <td>87510</td>\n",
       "      <td>8.7M</td>\n",
       "      <td>5,000,000+</td>\n",
       "      <td>Free</td>\n",
       "      <td>0</td>\n",
       "      <td>Everyone</td>\n",
       "      <td>Art &amp; Design</td>\n",
       "      <td>August 1, 2018</td>\n",
       "      <td>1.2.4</td>\n",
       "      <td>4.0.3 and up</td>\n",
       "    </tr>\n",
       "    <tr>\n",
       "      <th>3</th>\n",
       "      <td>Sketch - Draw &amp; Paint</td>\n",
       "      <td>ART_AND_DESIGN</td>\n",
       "      <td>4.5</td>\n",
       "      <td>215644</td>\n",
       "      <td>25M</td>\n",
       "      <td>50,000,000+</td>\n",
       "      <td>Free</td>\n",
       "      <td>0</td>\n",
       "      <td>Teen</td>\n",
       "      <td>Art &amp; Design</td>\n",
       "      <td>June 8, 2018</td>\n",
       "      <td>Varies with device</td>\n",
       "      <td>4.2 and up</td>\n",
       "    </tr>\n",
       "    <tr>\n",
       "      <th>4</th>\n",
       "      <td>Pixel Draw - Number Art Coloring Book</td>\n",
       "      <td>ART_AND_DESIGN</td>\n",
       "      <td>4.3</td>\n",
       "      <td>967</td>\n",
       "      <td>2.8M</td>\n",
       "      <td>100,000+</td>\n",
       "      <td>Free</td>\n",
       "      <td>0</td>\n",
       "      <td>Everyone</td>\n",
       "      <td>Art &amp; Design;Creativity</td>\n",
       "      <td>June 20, 2018</td>\n",
       "      <td>1.1</td>\n",
       "      <td>4.4 and up</td>\n",
       "    </tr>\n",
       "  </tbody>\n",
       "</table>\n",
       "</div>"
      ],
      "text/plain": [
       "                                                 App        Category  Rating  \\\n",
       "0     Photo Editor & Candy Camera & Grid & ScrapBook  ART_AND_DESIGN     4.1   \n",
       "1                                Coloring book moana  ART_AND_DESIGN     3.9   \n",
       "2  U Launcher Lite – FREE Live Cool Themes, Hide ...  ART_AND_DESIGN     4.7   \n",
       "3                              Sketch - Draw & Paint  ART_AND_DESIGN     4.5   \n",
       "4              Pixel Draw - Number Art Coloring Book  ART_AND_DESIGN     4.3   \n",
       "\n",
       "  Reviews  Size     Installs  Type Price Content Rating  \\\n",
       "0     159   19M      10,000+  Free     0       Everyone   \n",
       "1     967   14M     500,000+  Free     0       Everyone   \n",
       "2   87510  8.7M   5,000,000+  Free     0       Everyone   \n",
       "3  215644   25M  50,000,000+  Free     0           Teen   \n",
       "4     967  2.8M     100,000+  Free     0       Everyone   \n",
       "\n",
       "                      Genres      Last Updated         Current Ver  \\\n",
       "0               Art & Design   January 7, 2018               1.0.0   \n",
       "1  Art & Design;Pretend Play  January 15, 2018               2.0.0   \n",
       "2               Art & Design    August 1, 2018               1.2.4   \n",
       "3               Art & Design      June 8, 2018  Varies with device   \n",
       "4    Art & Design;Creativity     June 20, 2018                 1.1   \n",
       "\n",
       "    Android Ver  \n",
       "0  4.0.3 and up  \n",
       "1  4.0.3 and up  \n",
       "2  4.0.3 and up  \n",
       "3    4.2 and up  \n",
       "4    4.4 and up  "
      ]
     },
     "execution_count": 3,
     "metadata": {},
     "output_type": "execute_result"
    }
   ],
   "source": [
    "df.head()"
   ]
  },
  {
   "cell_type": "code",
   "execution_count": 4,
   "id": "e1990c02",
   "metadata": {},
   "outputs": [
    {
     "data": {
      "text/plain": [
       "(10841, 13)"
      ]
     },
     "execution_count": 4,
     "metadata": {},
     "output_type": "execute_result"
    }
   ],
   "source": [
    "df.shape"
   ]
  },
  {
   "cell_type": "code",
   "execution_count": 5,
   "id": "3f3f723a",
   "metadata": {},
   "outputs": [],
   "source": [
    "# 2. Checking for Null Values"
   ]
  },
  {
   "cell_type": "code",
   "execution_count": 6,
   "id": "dfaa98ac",
   "metadata": {},
   "outputs": [
    {
     "data": {
      "text/html": [
       "<div>\n",
       "<style scoped>\n",
       "    .dataframe tbody tr th:only-of-type {\n",
       "        vertical-align: middle;\n",
       "    }\n",
       "\n",
       "    .dataframe tbody tr th {\n",
       "        vertical-align: top;\n",
       "    }\n",
       "\n",
       "    .dataframe thead th {\n",
       "        text-align: right;\n",
       "    }\n",
       "</style>\n",
       "<table border=\"1\" class=\"dataframe\">\n",
       "  <thead>\n",
       "    <tr style=\"text-align: right;\">\n",
       "      <th></th>\n",
       "      <th>App</th>\n",
       "      <th>Category</th>\n",
       "      <th>Rating</th>\n",
       "      <th>Reviews</th>\n",
       "      <th>Size</th>\n",
       "      <th>Installs</th>\n",
       "      <th>Type</th>\n",
       "      <th>Price</th>\n",
       "      <th>Content Rating</th>\n",
       "      <th>Genres</th>\n",
       "      <th>Last Updated</th>\n",
       "      <th>Current Ver</th>\n",
       "      <th>Android Ver</th>\n",
       "    </tr>\n",
       "  </thead>\n",
       "  <tbody>\n",
       "    <tr>\n",
       "      <th>0</th>\n",
       "      <td>False</td>\n",
       "      <td>False</td>\n",
       "      <td>False</td>\n",
       "      <td>False</td>\n",
       "      <td>False</td>\n",
       "      <td>False</td>\n",
       "      <td>False</td>\n",
       "      <td>False</td>\n",
       "      <td>False</td>\n",
       "      <td>False</td>\n",
       "      <td>False</td>\n",
       "      <td>False</td>\n",
       "      <td>False</td>\n",
       "    </tr>\n",
       "    <tr>\n",
       "      <th>1</th>\n",
       "      <td>False</td>\n",
       "      <td>False</td>\n",
       "      <td>False</td>\n",
       "      <td>False</td>\n",
       "      <td>False</td>\n",
       "      <td>False</td>\n",
       "      <td>False</td>\n",
       "      <td>False</td>\n",
       "      <td>False</td>\n",
       "      <td>False</td>\n",
       "      <td>False</td>\n",
       "      <td>False</td>\n",
       "      <td>False</td>\n",
       "    </tr>\n",
       "    <tr>\n",
       "      <th>2</th>\n",
       "      <td>False</td>\n",
       "      <td>False</td>\n",
       "      <td>False</td>\n",
       "      <td>False</td>\n",
       "      <td>False</td>\n",
       "      <td>False</td>\n",
       "      <td>False</td>\n",
       "      <td>False</td>\n",
       "      <td>False</td>\n",
       "      <td>False</td>\n",
       "      <td>False</td>\n",
       "      <td>False</td>\n",
       "      <td>False</td>\n",
       "    </tr>\n",
       "    <tr>\n",
       "      <th>3</th>\n",
       "      <td>False</td>\n",
       "      <td>False</td>\n",
       "      <td>False</td>\n",
       "      <td>False</td>\n",
       "      <td>False</td>\n",
       "      <td>False</td>\n",
       "      <td>False</td>\n",
       "      <td>False</td>\n",
       "      <td>False</td>\n",
       "      <td>False</td>\n",
       "      <td>False</td>\n",
       "      <td>False</td>\n",
       "      <td>False</td>\n",
       "    </tr>\n",
       "    <tr>\n",
       "      <th>4</th>\n",
       "      <td>False</td>\n",
       "      <td>False</td>\n",
       "      <td>False</td>\n",
       "      <td>False</td>\n",
       "      <td>False</td>\n",
       "      <td>False</td>\n",
       "      <td>False</td>\n",
       "      <td>False</td>\n",
       "      <td>False</td>\n",
       "      <td>False</td>\n",
       "      <td>False</td>\n",
       "      <td>False</td>\n",
       "      <td>False</td>\n",
       "    </tr>\n",
       "  </tbody>\n",
       "</table>\n",
       "</div>"
      ],
      "text/plain": [
       "     App  Category  Rating  Reviews   Size  Installs   Type  Price  \\\n",
       "0  False     False   False    False  False     False  False  False   \n",
       "1  False     False   False    False  False     False  False  False   \n",
       "2  False     False   False    False  False     False  False  False   \n",
       "3  False     False   False    False  False     False  False  False   \n",
       "4  False     False   False    False  False     False  False  False   \n",
       "\n",
       "   Content Rating  Genres  Last Updated  Current Ver  Android Ver  \n",
       "0           False   False         False        False        False  \n",
       "1           False   False         False        False        False  \n",
       "2           False   False         False        False        False  \n",
       "3           False   False         False        False        False  \n",
       "4           False   False         False        False        False  "
      ]
     },
     "execution_count": 6,
     "metadata": {},
     "output_type": "execute_result"
    }
   ],
   "source": [
    "# Performing Data Wrangling\n",
    "\n",
    "# 2. Checking for null values\n",
    "\n",
    "df_missing=df.isna()\n",
    "df_missing.head()"
   ]
  },
  {
   "cell_type": "code",
   "execution_count": 7,
   "id": "f538440f",
   "metadata": {},
   "outputs": [
    {
     "name": "stdout",
     "output_type": "stream",
     "text": [
      "App\n",
      "False    10841\n",
      "Name: App, dtype: int64\n",
      "\n",
      "Category\n",
      "False    10841\n",
      "Name: Category, dtype: int64\n",
      "\n",
      "Rating\n",
      "False    9367\n",
      "True     1474\n",
      "Name: Rating, dtype: int64\n",
      "\n",
      "Reviews\n",
      "False    10841\n",
      "Name: Reviews, dtype: int64\n",
      "\n",
      "Size\n",
      "False    10841\n",
      "Name: Size, dtype: int64\n",
      "\n",
      "Installs\n",
      "False    10841\n",
      "Name: Installs, dtype: int64\n",
      "\n",
      "Type\n",
      "False    10840\n",
      "True         1\n",
      "Name: Type, dtype: int64\n",
      "\n",
      "Price\n",
      "False    10841\n",
      "Name: Price, dtype: int64\n",
      "\n",
      "Content Rating\n",
      "False    10840\n",
      "True         1\n",
      "Name: Content Rating, dtype: int64\n",
      "\n",
      "Genres\n",
      "False    10841\n",
      "Name: Genres, dtype: int64\n",
      "\n",
      "Last Updated\n",
      "False    10841\n",
      "Name: Last Updated, dtype: int64\n",
      "\n",
      "Current Ver\n",
      "False    10833\n",
      "True         8\n",
      "Name: Current Ver, dtype: int64\n",
      "\n",
      "Android Ver\n",
      "False    10838\n",
      "True         3\n",
      "Name: Android Ver, dtype: int64\n",
      "\n"
     ]
    }
   ],
   "source": [
    "#2. Get the number of null values for each column.\n",
    "for column in df_missing.columns.values.tolist():\n",
    "    print(column)\n",
    "    print(df_missing[column].value_counts())\n",
    "    print(\"\")"
   ]
  },
  {
   "cell_type": "code",
   "execution_count": 8,
   "id": "19d0a8e0",
   "metadata": {},
   "outputs": [],
   "source": [
    "#3. Drop records with nulls in any of the columns. \n",
    "df.dropna(inplace=True)"
   ]
  },
  {
   "cell_type": "code",
   "execution_count": 9,
   "id": "e6653525",
   "metadata": {},
   "outputs": [
    {
     "data": {
      "text/plain": [
       "(9360, 13)"
      ]
     },
     "execution_count": 9,
     "metadata": {},
     "output_type": "execute_result"
    }
   ],
   "source": [
    "df.shape"
   ]
  },
  {
   "cell_type": "code",
   "execution_count": 10,
   "id": "11107b95",
   "metadata": {},
   "outputs": [
    {
     "data": {
      "text/plain": [
       "App                object\n",
       "Category           object\n",
       "Rating            float64\n",
       "Reviews            object\n",
       "Size               object\n",
       "Installs           object\n",
       "Type               object\n",
       "Price              object\n",
       "Content Rating     object\n",
       "Genres             object\n",
       "Last Updated       object\n",
       "Current Ver        object\n",
       "Android Ver        object\n",
       "dtype: object"
      ]
     },
     "execution_count": 10,
     "metadata": {},
     "output_type": "execute_result"
    }
   ],
   "source": [
    "# 4. Variables seem to have incorrect type and inconsistent formatting. You need to fix them: \n",
    "\n",
    "df.dtypes"
   ]
  },
  {
   "cell_type": "code",
   "execution_count": 11,
   "id": "7292c377",
   "metadata": {},
   "outputs": [
    {
     "data": {
      "text/plain": [
       "count                   9360\n",
       "unique                   413\n",
       "top       Varies with device\n",
       "freq                    1637\n",
       "Name: Size, dtype: object"
      ]
     },
     "execution_count": 11,
     "metadata": {},
     "output_type": "execute_result"
    }
   ],
   "source": [
    "# 4.1 Size column has sizes in Kb as well as Mb. To analyze, you’ll need to convert these to numeric.\n",
    "df[\"Size\"].describe()"
   ]
  },
  {
   "cell_type": "code",
   "execution_count": 12,
   "id": "29070051",
   "metadata": {},
   "outputs": [],
   "source": [
    "def to_numeric(size_string):\n",
    "    if size_string.endswith(\"M\"):\n",
    "        size_string=size_string[0:-1]\n",
    "        size_string=float(size_string)*1000\n",
    "    elif size_string.endswith(\"k\"):\n",
    "        size_string=size_string[0:-1]\n",
    "    elif size_string==\"Varies with device\":\n",
    "        size_string=0\n",
    "    return size_string"
   ]
  },
  {
   "cell_type": "code",
   "execution_count": 13,
   "id": "f5ab16e1",
   "metadata": {},
   "outputs": [],
   "source": [
    "df[\"Extracted_Size\"]=df[\"Size\"].apply(to_numeric)"
   ]
  },
  {
   "cell_type": "code",
   "execution_count": 14,
   "id": "6d72ab20",
   "metadata": {},
   "outputs": [
    {
     "data": {
      "text/plain": [
       "dtype('O')"
      ]
     },
     "execution_count": 14,
     "metadata": {},
     "output_type": "execute_result"
    }
   ],
   "source": [
    "df[\"Extracted_Size\"].dtype"
   ]
  },
  {
   "cell_type": "code",
   "execution_count": 15,
   "id": "5bfd7caa",
   "metadata": {},
   "outputs": [],
   "source": [
    "df[\"Extracted_Size\"]=df[\"Extracted_Size\"].astype(\"float\")"
   ]
  },
  {
   "cell_type": "code",
   "execution_count": 16,
   "id": "de2ea838",
   "metadata": {},
   "outputs": [
    {
     "data": {
      "text/plain": [
       "dtype('float64')"
      ]
     },
     "execution_count": 16,
     "metadata": {},
     "output_type": "execute_result"
    }
   ],
   "source": [
    "df[\"Extracted_Size\"].dtype"
   ]
  },
  {
   "cell_type": "code",
   "execution_count": 17,
   "id": "fd3c2a98",
   "metadata": {},
   "outputs": [],
   "source": [
    "# 4.2 Reviews is a numeric field that is loaded as a string field. Convert it to numeric (int/float).\n",
    "df[\"Reviews\"]=df[\"Reviews\"].astype(\"float\")"
   ]
  },
  {
   "cell_type": "code",
   "execution_count": 18,
   "id": "504900f1",
   "metadata": {},
   "outputs": [
    {
     "data": {
      "text/plain": [
       "0        10,000+\n",
       "1       500,000+\n",
       "2     5,000,000+\n",
       "3    50,000,000+\n",
       "4       100,000+\n",
       "Name: Installs, dtype: object"
      ]
     },
     "execution_count": 18,
     "metadata": {},
     "output_type": "execute_result"
    }
   ],
   "source": [
    "df[\"Installs\"].head()"
   ]
  },
  {
   "cell_type": "code",
   "execution_count": 19,
   "id": "533a9c22",
   "metadata": {},
   "outputs": [],
   "source": [
    "def formatting(installs):\n",
    "    if \"+\" in installs:\n",
    "        installs=installs[0:-1]\n",
    "    if \",\" in installs:\n",
    "        installs=installs.replace(\",\",\"\")\n",
    "    installs=int(installs)  \n",
    "    return installs"
   ]
  },
  {
   "cell_type": "code",
   "execution_count": 20,
   "id": "bb2ef2f8",
   "metadata": {},
   "outputs": [],
   "source": [
    "df[\"Installs\"]=df[\"Installs\"].apply(formatting)"
   ]
  },
  {
   "cell_type": "code",
   "execution_count": 21,
   "id": "070082ad",
   "metadata": {},
   "outputs": [
    {
     "data": {
      "text/plain": [
       "array(['0', '$4.99', '$3.99', '$6.99', '$7.99', '$5.99', '$2.99', '$3.49',\n",
       "       '$1.99', '$9.99', '$7.49', '$0.99', '$9.00', '$5.49', '$10.00',\n",
       "       '$24.99', '$11.99', '$79.99', '$16.99', '$14.99', '$29.99',\n",
       "       '$12.99', '$2.49', '$10.99', '$1.50', '$19.99', '$15.99', '$33.99',\n",
       "       '$39.99', '$3.95', '$4.49', '$1.70', '$8.99', '$1.49', '$3.88',\n",
       "       '$399.99', '$17.99', '$400.00', '$3.02', '$1.76', '$4.84', '$4.77',\n",
       "       '$1.61', '$2.50', '$1.59', '$6.49', '$1.29', '$299.99', '$379.99',\n",
       "       '$37.99', '$18.99', '$389.99', '$8.49', '$1.75', '$14.00', '$2.00',\n",
       "       '$3.08', '$2.59', '$19.40', '$3.90', '$4.59', '$15.46', '$3.04',\n",
       "       '$13.99', '$4.29', '$3.28', '$4.60', '$1.00', '$2.95', '$2.90',\n",
       "       '$1.97', '$2.56', '$1.20'], dtype=object)"
      ]
     },
     "execution_count": 21,
     "metadata": {},
     "output_type": "execute_result"
    }
   ],
   "source": [
    "#4. 4 Price field is a string and has $ symbol. Remove ‘$’ sign, and convert it to numeric.\n",
    "df[\"Price\"].unique()"
   ]
  },
  {
   "cell_type": "code",
   "execution_count": 22,
   "id": "ec59ac54",
   "metadata": {},
   "outputs": [],
   "source": [
    "def price_formatting(price):\n",
    "    if \"$\" in price:\n",
    "        price=price.replace(\"$\",\"\")\n",
    "    price=float(price)\n",
    "    return price"
   ]
  },
  {
   "cell_type": "code",
   "execution_count": 23,
   "id": "e9b63f2f",
   "metadata": {},
   "outputs": [],
   "source": [
    "df[\"Price\"]=df[\"Price\"].apply(price_formatting)"
   ]
  },
  {
   "cell_type": "code",
   "execution_count": 24,
   "id": "e305f207",
   "metadata": {},
   "outputs": [
    {
     "data": {
      "text/plain": [
       "Series([], Name: Rating, dtype: float64)"
      ]
     },
     "execution_count": 24,
     "metadata": {},
     "output_type": "execute_result"
    }
   ],
   "source": [
    "#5. Sanity checks:\n",
    "\n",
    "#Average rating should be between 1 and 5 as only these values are allowed on the play store.\n",
    "#Drop the rows that have a value outside this range.\n",
    "\n",
    "\n",
    "df[\"Rating\"][df[\"Rating\"]<1]"
   ]
  },
  {
   "cell_type": "code",
   "execution_count": 25,
   "id": "fdc186d0",
   "metadata": {},
   "outputs": [
    {
     "data": {
      "text/plain": [
       "Series([], Name: Rating, dtype: float64)"
      ]
     },
     "execution_count": 25,
     "metadata": {},
     "output_type": "execute_result"
    }
   ],
   "source": [
    "df[\"Rating\"][df[\"Rating\"]>5] # There are no rows with values outside the range 1-5"
   ]
  },
  {
   "cell_type": "code",
   "execution_count": 26,
   "id": "4ce23e88",
   "metadata": {},
   "outputs": [
    {
     "data": {
      "text/html": [
       "<div>\n",
       "<style scoped>\n",
       "    .dataframe tbody tr th:only-of-type {\n",
       "        vertical-align: middle;\n",
       "    }\n",
       "\n",
       "    .dataframe tbody tr th {\n",
       "        vertical-align: top;\n",
       "    }\n",
       "\n",
       "    .dataframe thead th {\n",
       "        text-align: right;\n",
       "    }\n",
       "</style>\n",
       "<table border=\"1\" class=\"dataframe\">\n",
       "  <thead>\n",
       "    <tr style=\"text-align: right;\">\n",
       "      <th></th>\n",
       "      <th>Reviews</th>\n",
       "      <th>Installs</th>\n",
       "    </tr>\n",
       "  </thead>\n",
       "  <tbody>\n",
       "    <tr>\n",
       "      <th>2454</th>\n",
       "      <td>4.0</td>\n",
       "      <td>1</td>\n",
       "    </tr>\n",
       "    <tr>\n",
       "      <th>4663</th>\n",
       "      <td>10249.0</td>\n",
       "      <td>10000</td>\n",
       "    </tr>\n",
       "    <tr>\n",
       "      <th>5917</th>\n",
       "      <td>2.0</td>\n",
       "      <td>1</td>\n",
       "    </tr>\n",
       "    <tr>\n",
       "      <th>6700</th>\n",
       "      <td>7.0</td>\n",
       "      <td>5</td>\n",
       "    </tr>\n",
       "    <tr>\n",
       "      <th>7402</th>\n",
       "      <td>11.0</td>\n",
       "      <td>10</td>\n",
       "    </tr>\n",
       "    <tr>\n",
       "      <th>8591</th>\n",
       "      <td>20.0</td>\n",
       "      <td>10</td>\n",
       "    </tr>\n",
       "    <tr>\n",
       "      <th>10697</th>\n",
       "      <td>2.0</td>\n",
       "      <td>1</td>\n",
       "    </tr>\n",
       "  </tbody>\n",
       "</table>\n",
       "</div>"
      ],
      "text/plain": [
       "       Reviews  Installs\n",
       "2454       4.0         1\n",
       "4663   10249.0     10000\n",
       "5917       2.0         1\n",
       "6700       7.0         5\n",
       "7402      11.0        10\n",
       "8591      20.0        10\n",
       "10697      2.0         1"
      ]
     },
     "execution_count": 26,
     "metadata": {},
     "output_type": "execute_result"
    }
   ],
   "source": [
    "#5.2 Reviews should not be more than installs as only those who installed can review the app. \n",
    "#If there are any such records, drop them.\n",
    "\n",
    "df[[\"Reviews\",\"Installs\"]][df[\"Reviews\"]>df[\"Installs\"]]"
   ]
  },
  {
   "cell_type": "code",
   "execution_count": 27,
   "id": "34170177",
   "metadata": {},
   "outputs": [
    {
     "data": {
      "text/plain": [
       "(9360, 14)"
      ]
     },
     "execution_count": 27,
     "metadata": {},
     "output_type": "execute_result"
    }
   ],
   "source": [
    "# shape before dropping\n",
    "df.shape"
   ]
  },
  {
   "cell_type": "code",
   "execution_count": 28,
   "id": "7b63283f",
   "metadata": {},
   "outputs": [],
   "source": [
    "df.drop(df[[\"Reviews\",\"Installs\"]][df[\"Reviews\"]>df[\"Installs\"]].index, inplace = True)"
   ]
  },
  {
   "cell_type": "code",
   "execution_count": 29,
   "id": "721d82a3",
   "metadata": {},
   "outputs": [
    {
     "data": {
      "text/plain": [
       "(9353, 14)"
      ]
     },
     "execution_count": 29,
     "metadata": {},
     "output_type": "execute_result"
    }
   ],
   "source": [
    "# after dropping\n",
    "df.shape"
   ]
  },
  {
   "cell_type": "code",
   "execution_count": 30,
   "id": "262d2892",
   "metadata": {},
   "outputs": [
    {
     "data": {
      "text/plain": [
       "0        0.0\n",
       "1        0.0\n",
       "2        0.0\n",
       "3        0.0\n",
       "4        0.0\n",
       "        ... \n",
       "10834    0.0\n",
       "10836    0.0\n",
       "10837    0.0\n",
       "10839    0.0\n",
       "10840    0.0\n",
       "Name: Price, Length: 8711, dtype: float64"
      ]
     },
     "execution_count": 30,
     "metadata": {},
     "output_type": "execute_result"
    }
   ],
   "source": [
    "# 5.3 For free apps (type = “Free”), the price should not be >0. Drop any such rows.\n",
    "\n",
    "df[\"Price\"][df[\"Type\"]==\"Free\"][df[\"Price\"]==0]"
   ]
  },
  {
   "cell_type": "code",
   "execution_count": 31,
   "id": "1dd3ee42",
   "metadata": {},
   "outputs": [
    {
     "data": {
      "text/plain": [
       "Series([], Name: Price, dtype: float64)"
      ]
     },
     "execution_count": 31,
     "metadata": {},
     "output_type": "execute_result"
    }
   ],
   "source": [
    "df[\"Price\"][df[\"Type\"]==\"Free\"][df[\"Price\"]>0] ## no rows to drop"
   ]
  },
  {
   "cell_type": "code",
   "execution_count": 32,
   "id": "71654a88",
   "metadata": {},
   "outputs": [
    {
     "data": {
      "image/png": "[encoded data removed]",
      "text/plain": [
       "<Figure size 432x288 with 1 Axes>"
      ]
     },
     "metadata": {},
     "output_type": "display_data"
    }
   ],
   "source": [
    "# Performing univariate analysis\n",
    "\n",
    "# Boxplot for Price\n",
    "sns.set_theme(style=\"whitegrid\")\n",
    "ax= sns.boxplot(x=df[\"Price\"])\n",
    "\n",
    "#Are there any outliers? Think about the price of usual apps on Play Store.\n",
    "# Observation: Yes, there are outliers that are $300 and above"
   ]
  },
  {
   "cell_type": "code",
   "execution_count": 33,
   "id": "3c5ae7c7",
   "metadata": {},
   "outputs": [
    {
     "data": {
      "text/plain": [
       "count    9.353000e+03\n",
       "mean     5.147606e+05\n",
       "std      3.146169e+06\n",
       "min      1.000000e+00\n",
       "25%      1.870000e+02\n",
       "50%      5.967000e+03\n",
       "75%      8.174700e+04\n",
       "max      7.815831e+07\n",
       "Name: Reviews, dtype: float64"
      ]
     },
     "execution_count": 33,
     "metadata": {},
     "output_type": "execute_result"
    }
   ],
   "source": [
    "df[\"Reviews\"].describe()"
   ]
  },
  {
   "cell_type": "code",
   "execution_count": 34,
   "id": "260747ee",
   "metadata": {},
   "outputs": [
    {
     "data": {
      "image/png": "[encoded data removed]",
      "text/plain": [
       "<Figure size 432x288 with 1 Axes>"
      ]
     },
     "metadata": {},
     "output_type": "display_data"
    }
   ],
   "source": [
    "#Boxplot for Reviews\n",
    "# Boxplot for Price\n",
    "\n",
    "ax= sns.boxplot(x=df[\"Reviews\"])\n",
    "\n",
    "#ax.set(ylim=(0,10))\n",
    "#Are there any apps with very high number of reviews? Do the values seem right?\n",
    "# Observation: There are a few apps with a very high number of reviews, the highest being around 80 million. \n",
    "#These values seem a bit too high and will skew the analysis"
   ]
  },
  {
   "cell_type": "code",
   "execution_count": 35,
   "id": "754d4362",
   "metadata": {},
   "outputs": [
    {
     "data": {
      "image/png": "[encoded data removed]",
      "text/plain": [
       "<Figure size 432x288 with 1 Axes>"
      ]
     },
     "metadata": {},
     "output_type": "display_data"
    }
   ],
   "source": [
    "#Histogram for Rating\n",
    "ax= sns.histplot(x=df[\"Rating\"]) \n",
    "# Observation \n",
    "# The ratings are distributed around a mean value of 4.25, and is left-skewed. \n",
    "\n"
   ]
  },
  {
   "cell_type": "code",
   "execution_count": 36,
   "id": "9e6e3819",
   "metadata": {},
   "outputs": [
    {
     "data": {
      "image/png": "[encoded data removed]",
      "text/plain": [
       "<Figure size 432x288 with 1 Axes>"
      ]
     },
     "metadata": {},
     "output_type": "display_data"
    }
   ],
   "source": [
    "ax= sns.histplot(x=df[\"Extracted_Size\"]) \n",
    "# Observation: Has outliers at around 1 million\n",
    "# The distribution is Right-skewed \n",
    "# Note: a size of zero means that it was marked \" Varies ...\""
   ]
  },
  {
   "cell_type": "code",
   "execution_count": 37,
   "id": "83b99212",
   "metadata": {},
   "outputs": [
    {
     "data": {
      "text/html": [
       "<div>\n",
       "<style scoped>\n",
       "    .dataframe tbody tr th:only-of-type {\n",
       "        vertical-align: middle;\n",
       "    }\n",
       "\n",
       "    .dataframe tbody tr th {\n",
       "        vertical-align: top;\n",
       "    }\n",
       "\n",
       "    .dataframe thead th {\n",
       "        text-align: right;\n",
       "    }\n",
       "</style>\n",
       "<table border=\"1\" class=\"dataframe\">\n",
       "  <thead>\n",
       "    <tr style=\"text-align: right;\">\n",
       "      <th></th>\n",
       "      <th>App</th>\n",
       "      <th>Category</th>\n",
       "      <th>Rating</th>\n",
       "      <th>Reviews</th>\n",
       "      <th>Size</th>\n",
       "      <th>Installs</th>\n",
       "      <th>Type</th>\n",
       "      <th>Price</th>\n",
       "      <th>Content Rating</th>\n",
       "      <th>Genres</th>\n",
       "      <th>Last Updated</th>\n",
       "      <th>Current Ver</th>\n",
       "      <th>Android Ver</th>\n",
       "      <th>Extracted_Size</th>\n",
       "    </tr>\n",
       "  </thead>\n",
       "  <tbody>\n",
       "    <tr>\n",
       "      <th>4197</th>\n",
       "      <td>most expensive app (H)</td>\n",
       "      <td>FAMILY</td>\n",
       "      <td>4.3</td>\n",
       "      <td>6.0</td>\n",
       "      <td>1.5M</td>\n",
       "      <td>100</td>\n",
       "      <td>Paid</td>\n",
       "      <td>399.99</td>\n",
       "      <td>Everyone</td>\n",
       "      <td>Entertainment</td>\n",
       "      <td>July 16, 2018</td>\n",
       "      <td>1.0</td>\n",
       "      <td>7.0 and up</td>\n",
       "      <td>1500.0</td>\n",
       "    </tr>\n",
       "    <tr>\n",
       "      <th>4362</th>\n",
       "      <td>💎 I'm rich</td>\n",
       "      <td>LIFESTYLE</td>\n",
       "      <td>3.8</td>\n",
       "      <td>718.0</td>\n",
       "      <td>26M</td>\n",
       "      <td>10000</td>\n",
       "      <td>Paid</td>\n",
       "      <td>399.99</td>\n",
       "      <td>Everyone</td>\n",
       "      <td>Lifestyle</td>\n",
       "      <td>March 11, 2018</td>\n",
       "      <td>1.0.0</td>\n",
       "      <td>4.4 and up</td>\n",
       "      <td>26000.0</td>\n",
       "    </tr>\n",
       "    <tr>\n",
       "      <th>4367</th>\n",
       "      <td>I'm Rich - Trump Edition</td>\n",
       "      <td>LIFESTYLE</td>\n",
       "      <td>3.6</td>\n",
       "      <td>275.0</td>\n",
       "      <td>7.3M</td>\n",
       "      <td>10000</td>\n",
       "      <td>Paid</td>\n",
       "      <td>400.00</td>\n",
       "      <td>Everyone</td>\n",
       "      <td>Lifestyle</td>\n",
       "      <td>May 3, 2018</td>\n",
       "      <td>1.0.1</td>\n",
       "      <td>4.1 and up</td>\n",
       "      <td>7300.0</td>\n",
       "    </tr>\n",
       "    <tr>\n",
       "      <th>5351</th>\n",
       "      <td>I am rich</td>\n",
       "      <td>LIFESTYLE</td>\n",
       "      <td>3.8</td>\n",
       "      <td>3547.0</td>\n",
       "      <td>1.8M</td>\n",
       "      <td>100000</td>\n",
       "      <td>Paid</td>\n",
       "      <td>399.99</td>\n",
       "      <td>Everyone</td>\n",
       "      <td>Lifestyle</td>\n",
       "      <td>January 12, 2018</td>\n",
       "      <td>2.0</td>\n",
       "      <td>4.0.3 and up</td>\n",
       "      <td>1800.0</td>\n",
       "    </tr>\n",
       "    <tr>\n",
       "      <th>5354</th>\n",
       "      <td>I am Rich Plus</td>\n",
       "      <td>FAMILY</td>\n",
       "      <td>4.0</td>\n",
       "      <td>856.0</td>\n",
       "      <td>8.7M</td>\n",
       "      <td>10000</td>\n",
       "      <td>Paid</td>\n",
       "      <td>399.99</td>\n",
       "      <td>Everyone</td>\n",
       "      <td>Entertainment</td>\n",
       "      <td>May 19, 2018</td>\n",
       "      <td>3.0</td>\n",
       "      <td>4.4 and up</td>\n",
       "      <td>8700.0</td>\n",
       "    </tr>\n",
       "    <tr>\n",
       "      <th>5355</th>\n",
       "      <td>I am rich VIP</td>\n",
       "      <td>LIFESTYLE</td>\n",
       "      <td>3.8</td>\n",
       "      <td>411.0</td>\n",
       "      <td>2.6M</td>\n",
       "      <td>10000</td>\n",
       "      <td>Paid</td>\n",
       "      <td>299.99</td>\n",
       "      <td>Everyone</td>\n",
       "      <td>Lifestyle</td>\n",
       "      <td>July 21, 2018</td>\n",
       "      <td>1.1.1</td>\n",
       "      <td>4.3 and up</td>\n",
       "      <td>2600.0</td>\n",
       "    </tr>\n",
       "    <tr>\n",
       "      <th>5356</th>\n",
       "      <td>I Am Rich Premium</td>\n",
       "      <td>FINANCE</td>\n",
       "      <td>4.1</td>\n",
       "      <td>1867.0</td>\n",
       "      <td>4.7M</td>\n",
       "      <td>50000</td>\n",
       "      <td>Paid</td>\n",
       "      <td>399.99</td>\n",
       "      <td>Everyone</td>\n",
       "      <td>Finance</td>\n",
       "      <td>November 12, 2017</td>\n",
       "      <td>1.6</td>\n",
       "      <td>4.0 and up</td>\n",
       "      <td>4700.0</td>\n",
       "    </tr>\n",
       "    <tr>\n",
       "      <th>5357</th>\n",
       "      <td>I am extremely Rich</td>\n",
       "      <td>LIFESTYLE</td>\n",
       "      <td>2.9</td>\n",
       "      <td>41.0</td>\n",
       "      <td>2.9M</td>\n",
       "      <td>1000</td>\n",
       "      <td>Paid</td>\n",
       "      <td>379.99</td>\n",
       "      <td>Everyone</td>\n",
       "      <td>Lifestyle</td>\n",
       "      <td>July 1, 2018</td>\n",
       "      <td>1.0</td>\n",
       "      <td>4.0 and up</td>\n",
       "      <td>2900.0</td>\n",
       "    </tr>\n",
       "    <tr>\n",
       "      <th>5358</th>\n",
       "      <td>I am Rich!</td>\n",
       "      <td>FINANCE</td>\n",
       "      <td>3.8</td>\n",
       "      <td>93.0</td>\n",
       "      <td>22M</td>\n",
       "      <td>1000</td>\n",
       "      <td>Paid</td>\n",
       "      <td>399.99</td>\n",
       "      <td>Everyone</td>\n",
       "      <td>Finance</td>\n",
       "      <td>December 11, 2017</td>\n",
       "      <td>1.0</td>\n",
       "      <td>4.1 and up</td>\n",
       "      <td>22000.0</td>\n",
       "    </tr>\n",
       "    <tr>\n",
       "      <th>5359</th>\n",
       "      <td>I am rich(premium)</td>\n",
       "      <td>FINANCE</td>\n",
       "      <td>3.5</td>\n",
       "      <td>472.0</td>\n",
       "      <td>965k</td>\n",
       "      <td>5000</td>\n",
       "      <td>Paid</td>\n",
       "      <td>399.99</td>\n",
       "      <td>Everyone</td>\n",
       "      <td>Finance</td>\n",
       "      <td>May 1, 2017</td>\n",
       "      <td>3.4</td>\n",
       "      <td>4.4 and up</td>\n",
       "      <td>965.0</td>\n",
       "    </tr>\n",
       "    <tr>\n",
       "      <th>5362</th>\n",
       "      <td>I Am Rich Pro</td>\n",
       "      <td>FAMILY</td>\n",
       "      <td>4.4</td>\n",
       "      <td>201.0</td>\n",
       "      <td>2.7M</td>\n",
       "      <td>5000</td>\n",
       "      <td>Paid</td>\n",
       "      <td>399.99</td>\n",
       "      <td>Everyone</td>\n",
       "      <td>Entertainment</td>\n",
       "      <td>May 30, 2017</td>\n",
       "      <td>1.54</td>\n",
       "      <td>1.6 and up</td>\n",
       "      <td>2700.0</td>\n",
       "    </tr>\n",
       "    <tr>\n",
       "      <th>5364</th>\n",
       "      <td>I am rich (Most expensive app)</td>\n",
       "      <td>FINANCE</td>\n",
       "      <td>4.1</td>\n",
       "      <td>129.0</td>\n",
       "      <td>2.7M</td>\n",
       "      <td>1000</td>\n",
       "      <td>Paid</td>\n",
       "      <td>399.99</td>\n",
       "      <td>Teen</td>\n",
       "      <td>Finance</td>\n",
       "      <td>December 6, 2017</td>\n",
       "      <td>2</td>\n",
       "      <td>4.0.3 and up</td>\n",
       "      <td>2700.0</td>\n",
       "    </tr>\n",
       "    <tr>\n",
       "      <th>5366</th>\n",
       "      <td>I Am Rich</td>\n",
       "      <td>FAMILY</td>\n",
       "      <td>3.6</td>\n",
       "      <td>217.0</td>\n",
       "      <td>4.9M</td>\n",
       "      <td>10000</td>\n",
       "      <td>Paid</td>\n",
       "      <td>389.99</td>\n",
       "      <td>Everyone</td>\n",
       "      <td>Entertainment</td>\n",
       "      <td>June 22, 2018</td>\n",
       "      <td>1.5</td>\n",
       "      <td>4.2 and up</td>\n",
       "      <td>4900.0</td>\n",
       "    </tr>\n",
       "    <tr>\n",
       "      <th>5369</th>\n",
       "      <td>I am Rich</td>\n",
       "      <td>FINANCE</td>\n",
       "      <td>4.3</td>\n",
       "      <td>180.0</td>\n",
       "      <td>3.8M</td>\n",
       "      <td>5000</td>\n",
       "      <td>Paid</td>\n",
       "      <td>399.99</td>\n",
       "      <td>Everyone</td>\n",
       "      <td>Finance</td>\n",
       "      <td>March 22, 2018</td>\n",
       "      <td>1.0</td>\n",
       "      <td>4.2 and up</td>\n",
       "      <td>3800.0</td>\n",
       "    </tr>\n",
       "    <tr>\n",
       "      <th>5373</th>\n",
       "      <td>I AM RICH PRO PLUS</td>\n",
       "      <td>FINANCE</td>\n",
       "      <td>4.0</td>\n",
       "      <td>36.0</td>\n",
       "      <td>41M</td>\n",
       "      <td>1000</td>\n",
       "      <td>Paid</td>\n",
       "      <td>399.99</td>\n",
       "      <td>Everyone</td>\n",
       "      <td>Finance</td>\n",
       "      <td>June 25, 2018</td>\n",
       "      <td>1.0.2</td>\n",
       "      <td>4.1 and up</td>\n",
       "      <td>41000.0</td>\n",
       "    </tr>\n",
       "  </tbody>\n",
       "</table>\n",
       "</div>"
      ],
      "text/plain": [
       "                                 App   Category  Rating  Reviews  Size  \\\n",
       "4197          most expensive app (H)     FAMILY     4.3      6.0  1.5M   \n",
       "4362                      💎 I'm rich  LIFESTYLE     3.8    718.0   26M   \n",
       "4367        I'm Rich - Trump Edition  LIFESTYLE     3.6    275.0  7.3M   \n",
       "5351                       I am rich  LIFESTYLE     3.8   3547.0  1.8M   \n",
       "5354                  I am Rich Plus     FAMILY     4.0    856.0  8.7M   \n",
       "5355                   I am rich VIP  LIFESTYLE     3.8    411.0  2.6M   \n",
       "5356               I Am Rich Premium    FINANCE     4.1   1867.0  4.7M   \n",
       "5357             I am extremely Rich  LIFESTYLE     2.9     41.0  2.9M   \n",
       "5358                      I am Rich!    FINANCE     3.8     93.0   22M   \n",
       "5359              I am rich(premium)    FINANCE     3.5    472.0  965k   \n",
       "5362                   I Am Rich Pro     FAMILY     4.4    201.0  2.7M   \n",
       "5364  I am rich (Most expensive app)    FINANCE     4.1    129.0  2.7M   \n",
       "5366                       I Am Rich     FAMILY     3.6    217.0  4.9M   \n",
       "5369                       I am Rich    FINANCE     4.3    180.0  3.8M   \n",
       "5373              I AM RICH PRO PLUS    FINANCE     4.0     36.0   41M   \n",
       "\n",
       "      Installs  Type   Price Content Rating         Genres       Last Updated  \\\n",
       "4197       100  Paid  399.99       Everyone  Entertainment      July 16, 2018   \n",
       "4362     10000  Paid  399.99       Everyone      Lifestyle     March 11, 2018   \n",
       "4367     10000  Paid  400.00       Everyone      Lifestyle        May 3, 2018   \n",
       "5351    100000  Paid  399.99       Everyone      Lifestyle   January 12, 2018   \n",
       "5354     10000  Paid  399.99       Everyone  Entertainment       May 19, 2018   \n",
       "5355     10000  Paid  299.99       Everyone      Lifestyle      July 21, 2018   \n",
       "5356     50000  Paid  399.99       Everyone        Finance  November 12, 2017   \n",
       "5357      1000  Paid  379.99       Everyone      Lifestyle       July 1, 2018   \n",
       "5358      1000  Paid  399.99       Everyone        Finance  December 11, 2017   \n",
       "5359      5000  Paid  399.99       Everyone        Finance        May 1, 2017   \n",
       "5362      5000  Paid  399.99       Everyone  Entertainment       May 30, 2017   \n",
       "5364      1000  Paid  399.99           Teen        Finance   December 6, 2017   \n",
       "5366     10000  Paid  389.99       Everyone  Entertainment      June 22, 2018   \n",
       "5369      5000  Paid  399.99       Everyone        Finance     March 22, 2018   \n",
       "5373      1000  Paid  399.99       Everyone        Finance      June 25, 2018   \n",
       "\n",
       "     Current Ver   Android Ver  Extracted_Size  \n",
       "4197         1.0    7.0 and up          1500.0  \n",
       "4362       1.0.0    4.4 and up         26000.0  \n",
       "4367       1.0.1    4.1 and up          7300.0  \n",
       "5351         2.0  4.0.3 and up          1800.0  \n",
       "5354         3.0    4.4 and up          8700.0  \n",
       "5355       1.1.1    4.3 and up          2600.0  \n",
       "5356         1.6    4.0 and up          4700.0  \n",
       "5357         1.0    4.0 and up          2900.0  \n",
       "5358         1.0    4.1 and up         22000.0  \n",
       "5359         3.4    4.4 and up           965.0  \n",
       "5362        1.54    1.6 and up          2700.0  \n",
       "5364           2  4.0.3 and up          2700.0  \n",
       "5366         1.5    4.2 and up          4900.0  \n",
       "5369         1.0    4.2 and up          3800.0  \n",
       "5373       1.0.2    4.1 and up         41000.0  "
      ]
     },
     "execution_count": 37,
     "metadata": {},
     "output_type": "execute_result"
    }
   ],
   "source": [
    "# 6. Outlier Treatment\n",
    "# 6.1 Price\n",
    "# 6.1.1 Check out the records with very high price\n",
    "df[df[\"Price\"]>200]\n",
    "#  Is 200 indeed a high price?\n",
    "# Yes, most prices are below $50, as we can see from the box plot"
   ]
  },
  {
   "cell_type": "code",
   "execution_count": 38,
   "id": "ebb654ae",
   "metadata": {},
   "outputs": [
    {
     "data": {
      "text/plain": [
       "(9353, 14)"
      ]
     },
     "execution_count": 38,
     "metadata": {},
     "output_type": "execute_result"
    }
   ],
   "source": [
    "# shape before dropping\n",
    "df.shape"
   ]
  },
  {
   "cell_type": "code",
   "execution_count": 39,
   "id": "794e7d97",
   "metadata": {},
   "outputs": [],
   "source": [
    "# 6.1.2 Drop these as most seem to be junk apps\n",
    "#df.drop(df[[\"Reviews\",\"Installs\"]][df[\"Reviews\"]>df[\"Installs\"]].index, inplace = True)\n",
    "df.drop(df[df[\"Price\"]>200].index,inplace=True)"
   ]
  },
  {
   "cell_type": "code",
   "execution_count": 40,
   "id": "6b55ad5f",
   "metadata": {},
   "outputs": [
    {
     "data": {
      "text/plain": [
       "(9338, 14)"
      ]
     },
     "execution_count": 40,
     "metadata": {},
     "output_type": "execute_result"
    }
   ],
   "source": [
    "# after dropping\n",
    "df.shape # records have been dropped"
   ]
  },
  {
   "cell_type": "code",
   "execution_count": 41,
   "id": "6d44de5a",
   "metadata": {},
   "outputs": [
    {
     "data": {
      "text/plain": [
       "6342"
      ]
     },
     "execution_count": 41,
     "metadata": {},
     "output_type": "execute_result"
    }
   ],
   "source": [
    "#6.2 Reviews:\n",
    "#Drop records having more than 2 million reviews.\n",
    "\n",
    "df[df[\"Reviews\"]>2000000].size # no of apps having more than 2 mil reviews"
   ]
  },
  {
   "cell_type": "code",
   "execution_count": 42,
   "id": "6656a402",
   "metadata": {},
   "outputs": [
    {
     "data": {
      "text/plain": [
       "(8885, 14)"
      ]
     },
     "execution_count": 42,
     "metadata": {},
     "output_type": "execute_result"
    }
   ],
   "source": [
    "df.drop(df[df[\"Reviews\"]>2000000].index,inplace=True)\n",
    "df.shape # rows have decreased to 8885"
   ]
  },
  {
   "cell_type": "code",
   "execution_count": 43,
   "id": "285fc1ef",
   "metadata": {},
   "outputs": [
    {
     "data": {
      "text/plain": [
       "0.10         1000.0\n",
       "0.25        10000.0\n",
       "0.50       500000.0\n",
       "0.70      1000000.0\n",
       "0.90     10000000.0\n",
       "0.99    100000000.0\n",
       "Name: Installs, dtype: float64"
      ]
     },
     "execution_count": 43,
     "metadata": {},
     "output_type": "execute_result"
    }
   ],
   "source": [
    "#6.3 Installs\n",
    "#6.3.1 Find out the different percentiles – 10, 25, 50, 70, 90, 95, 99\n",
    "df[\"Installs\"].quantile([0.10,0.25,0.50,0.70,0.90,0.99])"
   ]
  },
  {
   "cell_type": "code",
   "execution_count": 44,
   "id": "3f5f059f",
   "metadata": {},
   "outputs": [
    {
     "data": {
      "text/plain": [
       "5446"
      ]
     },
     "execution_count": 44,
     "metadata": {},
     "output_type": "execute_result"
    }
   ],
   "source": [
    "#6.3.2 Decide a threshold as cutoff for outlier and drop records having values more than that\n",
    "\n",
    "df[df[\"Installs\"]>10000000].size # Number of records beyond the 90th percentile"
   ]
  },
  {
   "cell_type": "code",
   "execution_count": 45,
   "id": "b569f2fd",
   "metadata": {},
   "outputs": [],
   "source": [
    "# dropping records beyond the 90th percentile\n",
    "df.drop(df[df[\"Installs\"]>10000000].index,inplace=True)"
   ]
  },
  {
   "cell_type": "code",
   "execution_count": 46,
   "id": "3dd59403",
   "metadata": {},
   "outputs": [
    {
     "data": {
      "text/plain": [
       "(8496, 14)"
      ]
     },
     "execution_count": 46,
     "metadata": {},
     "output_type": "execute_result"
    }
   ],
   "source": [
    "df.shape"
   ]
  },
  {
   "cell_type": "code",
   "execution_count": 47,
   "id": "c2a99c32",
   "metadata": {},
   "outputs": [
    {
     "data": {
      "text/plain": [
       "<AxesSubplot:xlabel='Rating', ylabel='Price'>"
      ]
     },
     "execution_count": 47,
     "metadata": {},
     "output_type": "execute_result"
    },
    {
     "data": {
      "image/png": "[encoded data removed]",
      "text/plain": [
       "<Figure size 432x288 with 1 Axes>"
      ]
     },
     "metadata": {},
     "output_type": "display_data"
    }
   ],
   "source": [
    "# 7. Bivariate Analysis\n",
    "\n",
    "#7.1 scatter plot/joinplot for Rating vs. Price\n",
    "sns.regplot(x=\"Rating\",y=\"Price\",data=df,line_kws={\"color\": \"red\"})\n",
    "#7.1.1 What pattern do you observe? Does rating increase with price?\n",
    "# There is almost no correlation between rating and price. Rating does not necessarily increase with price."
   ]
  },
  {
   "cell_type": "code",
   "execution_count": 48,
   "id": "53ff37eb",
   "metadata": {},
   "outputs": [
    {
     "data": {
      "text/plain": [
       "<AxesSubplot:xlabel='Rating', ylabel='Extracted_Size'>"
      ]
     },
     "execution_count": 48,
     "metadata": {},
     "output_type": "execute_result"
    },
    {
     "data": {
      "image/png": "[encoded data removed]",
      "text/plain": [
       "<Figure size 432x288 with 1 Axes>"
      ]
     },
     "metadata": {},
     "output_type": "display_data"
    }
   ],
   "source": [
    "# 7.2 Make scatter plot/joinplot for Rating vs. Size\n",
    "sns.regplot(x=\"Rating\",y=\"Extracted_Size\",data=df,line_kws={\"color\": \"red\"})\n",
    "#7.2.2 There is a weak correlation between rating and size.\n",
    "# Being a larger size does not mean an app will get a better rating."
   ]
  },
  {
   "cell_type": "code",
   "execution_count": 49,
   "id": "b0d436b4",
   "metadata": {},
   "outputs": [
    {
     "data": {
      "text/plain": [
       "<AxesSubplot:xlabel='Rating', ylabel='Reviews'>"
      ]
     },
     "execution_count": 49,
     "metadata": {},
     "output_type": "execute_result"
    },
    {
     "data": {
      "image/png": "[encoded data removed]",
      "text/plain": [
       "<Figure size 432x288 with 1 Axes>"
      ]
     },
     "metadata": {},
     "output_type": "display_data"
    }
   ],
   "source": [
    "#7.3 Make scatter plot/joinplot for Rating vs. Reviews\n",
    "sns.regplot(x=\"Rating\",y=\"Reviews\",data=df,line_kws={\"color\": \"red\"})\n",
    "# 7.3.1 Generally, a better rating does seem to be given to apps with more reviews. \n",
    "# However, a review does not guarantee a better rating"
   ]
  },
  {
   "cell_type": "code",
   "execution_count": 50,
   "id": "e6eeaefe",
   "metadata": {},
   "outputs": [
    {
     "data": {
      "text/plain": [
       "Index(['App', 'Category', 'Rating', 'Reviews', 'Size', 'Installs', 'Type',\n",
       "       'Price', 'Content Rating', 'Genres', 'Last Updated', 'Current Ver',\n",
       "       'Android Ver', 'Extracted_Size'],\n",
       "      dtype='object')"
      ]
     },
     "execution_count": 50,
     "metadata": {},
     "output_type": "execute_result"
    }
   ],
   "source": [
    "df.columns"
   ]
  },
  {
   "cell_type": "code",
   "execution_count": 51,
   "id": "636a0715",
   "metadata": {},
   "outputs": [
    {
     "data": {
      "text/plain": [
       "<AxesSubplot:xlabel='Rating', ylabel='Content Rating'>"
      ]
     },
     "execution_count": 51,
     "metadata": {},
     "output_type": "execute_result"
    },
    {
     "data": {
      "image/png": "[encoded data removed]",
      "text/plain": [
       "<Figure size 432x288 with 1 Axes>"
      ]
     },
     "metadata": {},
     "output_type": "display_data"
    }
   ],
   "source": [
    "# 7.4 Make boxplot for Rating vs. Content Rating\n",
    "sns.boxplot(x=\"Rating\",y=\"Content Rating\",data=df)\n",
    "# 7.4.1 Is there any difference in the ratings? Are some types liked better?\n",
    "# Every category generally has similar averages and inter-quartile ranges, between 4-4.5 stars.\n",
    "# 'Everyone' has more frequent lower outliers compared to the other categories.\n",
    "# The \"Adults only 18+\" category has the highest median rating.\n",
    "# It seems like the more mature the content, the higher the consistency of its rating."
   ]
  },
  {
   "cell_type": "code",
   "execution_count": 52,
   "id": "f74a65eb",
   "metadata": {},
   "outputs": [
    {
     "data": {
      "text/plain": [
       "<AxesSubplot:xlabel='Rating', ylabel='Category'>"
      ]
     },
     "execution_count": 52,
     "metadata": {},
     "output_type": "execute_result"
    },
    {
     "data": {
      "image/png": "[encoded data removed]",
      "text/plain": [
       "<Figure size 842.4x595.44 with 1 Axes>"
      ]
     },
     "metadata": {},
     "output_type": "display_data"
    }
   ],
   "source": [
    "# 4.5 Make boxplot for Ratings vs. Category\n",
    "\n",
    "sns.set(rc={'figure.figsize':(11.7,8.27)})\n",
    "sns.boxplot(x=\"Rating\",y=\"Category\",data=df)\n",
    "#4.5.1 Which genre has the best ratings?\n",
    "#\"Entertainment\" seems to have the best ratings"
   ]
  },
  {
   "cell_type": "code",
   "execution_count": 53,
   "id": "74654ed8",
   "metadata": {},
   "outputs": [],
   "source": [
    "# 8 Data Preprocessing\n",
    "# create a copy of the dataframe to make all the edits.\n",
    "inp1=df.copy()"
   ]
  },
  {
   "cell_type": "code",
   "execution_count": 54,
   "id": "b198cce7",
   "metadata": {},
   "outputs": [],
   "source": [
    "#8.1.Reviews and Install have some values that are still relatively very high. \n",
    "#Before building a linear regression model, you need to reduce the skew.\n",
    "#Apply log transformation (np.log1p) to Reviews and Installs.\n",
    "inp1[[\"Reviews\",\"Installs\"]]=inp1[[\"Reviews\",\"Installs\"]].apply(np.log1p)"
   ]
  },
  {
   "cell_type": "code",
   "execution_count": 55,
   "id": "9f8be0c1",
   "metadata": {},
   "outputs": [],
   "source": [
    "#8.2 Drop columns App, Last Updated, Current Ver, and Android Ver. These variables are not useful for our task.\n",
    "inp1.drop(columns=[\"App\",\"Last Updated\",\"Current Ver\", \"Android Ver\"], inplace=True)"
   ]
  },
  {
   "cell_type": "code",
   "execution_count": 56,
   "id": "01266780",
   "metadata": {},
   "outputs": [],
   "source": [
    "#8.3 Get dummy columns for Category, Genres, and Content Rating. \n",
    "inp2=pd.get_dummies(inp1[[\"Category\",\"Genres\",\"Content Rating\"]])"
   ]
  },
  {
   "cell_type": "code",
   "execution_count": 57,
   "id": "a5afb53a",
   "metadata": {},
   "outputs": [],
   "source": [
    "# concatenating inp1 and inp2\n",
    "df1=pd.concat([inp1,inp2],axis=1)\n",
    "#dropping original Category, Genres, and Content Rating columns\n",
    "\n",
    "df1.drop(columns=[\"Category\",\"Genres\",\"Content Rating\"],inplace=True)\n"
   ]
  },
  {
   "cell_type": "code",
   "execution_count": 58,
   "id": "c1f782fa",
   "metadata": {},
   "outputs": [],
   "source": [
    "# 9. Train test split  and apply 70-30 split. Name the new dataframes df_train and df_test.\n",
    "df_train,df_test=train_test_split(df1,test_size=0.3,random_state=0)"
   ]
  },
  {
   "cell_type": "code",
   "execution_count": 59,
   "id": "e863760e",
   "metadata": {},
   "outputs": [
    {
     "data": {
      "text/plain": [
       "((5947, 161), (2549, 161))"
      ]
     },
     "execution_count": 59,
     "metadata": {},
     "output_type": "execute_result"
    }
   ],
   "source": [
    "df_train.shape,df_test.shape"
   ]
  },
  {
   "cell_type": "code",
   "execution_count": 60,
   "id": "780558da",
   "metadata": {},
   "outputs": [],
   "source": [
    "#10. Separate the dataframes into X_train, y_train, X_test, and y_test.\n",
    "x_train, y_train =train_test_split(df_train,test_size=0.3,random_state=0)\n",
    "x_test, y_test =train_test_split(df_test,test_size=0.3,random_state=0)"
   ]
  },
  {
   "cell_type": "code",
   "execution_count": 61,
   "id": "fa2a9672",
   "metadata": {},
   "outputs": [],
   "source": [
    "# 9. Train test split  and apply 70-30 split. Name the new dataframes df_train and df_test.\n",
    "#x_train,x_test,y_train,y_test=train_test_split(inp2,inp1[\"Price\"],test_size=0.30,random_state=0)"
   ]
  },
  {
   "cell_type": "code",
   "execution_count": null,
   "id": "e80ab195",
   "metadata": {},
   "outputs": [],
   "source": []
  }
 ],
 "metadata": {
  "kernelspec": {
   "display_name": "Python 3 (ipykernel)",
   "language": "python",
   "name": "python3"
  },
  "language_info": {
   "codemirror_mode": {
    "name": "ipython",
    "version": 3
   },
   "file_extension": ".py",
   "mimetype": "text/x-python",
   "name": "python",
   "nbconvert_exporter": "python",
   "pygments_lexer": "ipython3",
   "version": "3.9.7"
  }
 },
 "nbformat": 4,
 "nbformat_minor": 5
}
